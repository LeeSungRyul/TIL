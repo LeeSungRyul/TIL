{
 "cells": [
  {
   "cell_type": "markdown",
   "metadata": {
    "id": "IAcyxg6v277Z"
   },
   "source": [
    "# Python Data Structure"
   ]
  },
  {
   "cell_type": "code",
   "execution_count": null,
   "metadata": {
    "id": "GVwaYinG20ZK"
   },
   "outputs": [],
   "source": [
    "import warnings\n",
    "warnings.filterwarnings('ignore')"
   ]
  },
  {
   "cell_type": "markdown",
   "metadata": {
    "id": "l_U3iVJb3Fo9"
   },
   "source": [
    "# I. String"
   ]
  },
  {
   "cell_type": "code",
   "execution_count": 1,
   "metadata": {
    "colab": {
     "base_uri": "https://localhost:8080/"
    },
    "executionInfo": {
     "elapsed": 672,
     "status": "ok",
     "timestamp": 1613714222904,
     "user": {
      "displayName": "이성렬",
      "photoUrl": "",
      "userId": "08044204928861003367"
     },
     "user_tz": -540
    },
    "id": "NxyXUZii3H6p",
    "outputId": "a97a84eb-7b97-4cac-b3bd-2f22e6a37bd4"
   },
   "outputs": [
    {
     "name": "stdout",
     "output_type": "stream",
     "text": [
      "The truth is out there.\n"
     ]
    }
   ],
   "source": [
    "S1= 'The truth is out there.'\n",
    "print(S1)"
   ]
  },
  {
   "cell_type": "markdown",
   "metadata": {
    "id": "-Jfgl-n63QZt"
   },
   "source": [
    "> ## 1) Concatenation"
   ]
  },
  {
   "cell_type": "code",
   "execution_count": 2,
   "metadata": {
    "colab": {
     "base_uri": "https://localhost:8080/"
    },
    "executionInfo": {
     "elapsed": 605,
     "status": "ok",
     "timestamp": 1613714292607,
     "user": {
      "displayName": "이성렬",
      "photoUrl": "",
      "userId": "08044204928861003367"
     },
     "user_tz": -540
    },
    "id": "StN2pWvX3UrZ",
    "outputId": "6898780b-42bc-4f18-b3fe-2f9b1acd7887"
   },
   "outputs": [
    {
     "name": "stdout",
     "output_type": "stream",
     "text": [
      "========================================\n",
      "\t The truth is out there.\n",
      "========================================\n"
     ]
    }
   ],
   "source": [
    "print('=' * 40)\n",
    "print('\\t', S1)\n",
    "print('=' * 40)"
   ]
  },
  {
   "cell_type": "code",
   "execution_count": 2,
   "metadata": {
    "executionInfo": {
     "elapsed": 549,
     "status": "ok",
     "timestamp": 1613714317623,
     "user": {
      "displayName": "이성렬",
      "photoUrl": "",
      "userId": "08044204928861003367"
     },
     "user_tz": -540
    },
    "id": "642FMZGU3gxa"
   },
   "outputs": [],
   "source": [
    "S2 = 'The truth is'\n",
    "S3 = ' out there.'"
   ]
  },
  {
   "cell_type": "code",
   "execution_count": 3,
   "metadata": {
    "colab": {
     "base_uri": "https://localhost:8080/",
     "height": 36
    },
    "executionInfo": {
     "elapsed": 519,
     "status": "ok",
     "timestamp": 1613714342050,
     "user": {
      "displayName": "이성렬",
      "photoUrl": "",
      "userId": "08044204928861003367"
     },
     "user_tz": -540
    },
    "id": "YOhOcH1J3l7m",
    "outputId": "7703e926-aa17-4409-f0d0-2bdbe163dc00"
   },
   "outputs": [
    {
     "data": {
      "text/plain": [
       "'The truth is out there.'"
      ]
     },
     "execution_count": 3,
     "metadata": {},
     "output_type": "execute_result"
    }
   ],
   "source": [
    "S2 + S3"
   ]
  },
  {
   "cell_type": "code",
   "execution_count": 4,
   "metadata": {
    "colab": {
     "base_uri": "https://localhost:8080/",
     "height": 36
    },
    "executionInfo": {
     "elapsed": 582,
     "status": "ok",
     "timestamp": 1613714349460,
     "user": {
      "displayName": "이성렬",
      "photoUrl": "",
      "userId": "08044204928861003367"
     },
     "user_tz": -540
    },
    "id": "i8-E5DWb3r5l",
    "outputId": "9a05d37f-b294-44cf-9151-067a06e6c80f"
   },
   "outputs": [
    {
     "data": {
      "text/plain": [
       "' out there. out there. out there.'"
      ]
     },
     "execution_count": 4,
     "metadata": {},
     "output_type": "execute_result"
    }
   ],
   "source": [
    "S3 * 3"
   ]
  },
  {
   "cell_type": "markdown",
   "metadata": {
    "id": "XwhSmJPM3vuh"
   },
   "source": [
    "> ## 2) Indexing"
   ]
  },
  {
   "cell_type": "code",
   "execution_count": 8,
   "metadata": {
    "colab": {
     "base_uri": "https://localhost:8080/"
    },
    "executionInfo": {
     "elapsed": 543,
     "status": "ok",
     "timestamp": 1613714378047,
     "user": {
      "displayName": "이성렬",
      "photoUrl": "",
      "userId": "08044204928861003367"
     },
     "user_tz": -540
    },
    "id": "2xPuWduH3zCE",
    "outputId": "ff48caa5-6643-430c-8202-cd062c43a269"
   },
   "outputs": [
    {
     "name": "stdout",
     "output_type": "stream",
     "text": [
      "The truth is out there.\n"
     ]
    }
   ],
   "source": [
    "print(S1)"
   ]
  },
  {
   "cell_type": "code",
   "execution_count": 9,
   "metadata": {
    "colab": {
     "base_uri": "https://localhost:8080/",
     "height": 36
    },
    "executionInfo": {
     "elapsed": 534,
     "status": "ok",
     "timestamp": 1613714386161,
     "user": {
      "displayName": "이성렬",
      "photoUrl": "",
      "userId": "08044204928861003367"
     },
     "user_tz": -540
    },
    "id": "0jwoTMEo30r5",
    "outputId": "ab031e6c-b029-4cfd-ed5b-cbee95d503ba"
   },
   "outputs": [
    {
     "data": {
      "application/vnd.google.colaboratory.intrinsic+json": {
       "type": "string"
      },
      "text/plain": [
       "'h'"
      ]
     },
     "execution_count": 9,
     "metadata": {
      "tags": []
     },
     "output_type": "execute_result"
    }
   ],
   "source": [
    "S1[1]"
   ]
  },
  {
   "cell_type": "code",
   "execution_count": 10,
   "metadata": {
    "colab": {
     "base_uri": "https://localhost:8080/",
     "height": 36
    },
    "executionInfo": {
     "elapsed": 549,
     "status": "ok",
     "timestamp": 1613714394510,
     "user": {
      "displayName": "이성렬",
      "photoUrl": "",
      "userId": "08044204928861003367"
     },
     "user_tz": -540
    },
    "id": "gXTHbqA932qk",
    "outputId": "1c553e14-8c18-4c0f-e540-f8abccab196c"
   },
   "outputs": [
    {
     "data": {
      "application/vnd.google.colaboratory.intrinsic+json": {
       "type": "string"
      },
      "text/plain": [
       "'r'"
      ]
     },
     "execution_count": 10,
     "metadata": {
      "tags": []
     },
     "output_type": "execute_result"
    }
   ],
   "source": [
    "S1[5]"
   ]
  },
  {
   "cell_type": "code",
   "execution_count": 11,
   "metadata": {
    "colab": {
     "base_uri": "https://localhost:8080/",
     "height": 36
    },
    "executionInfo": {
     "elapsed": 582,
     "status": "ok",
     "timestamp": 1613714405253,
     "user": {
      "displayName": "이성렬",
      "photoUrl": "",
      "userId": "08044204928861003367"
     },
     "user_tz": -540
    },
    "id": "cptME4nR34tE",
    "outputId": "f861a744-7309-40cc-9ecb-364545de18e2"
   },
   "outputs": [
    {
     "data": {
      "application/vnd.google.colaboratory.intrinsic+json": {
       "type": "string"
      },
      "text/plain": [
       "'T'"
      ]
     },
     "execution_count": 11,
     "metadata": {
      "tags": []
     },
     "output_type": "execute_result"
    }
   ],
   "source": [
    "S1[0]"
   ]
  },
  {
   "cell_type": "code",
   "execution_count": 12,
   "metadata": {
    "colab": {
     "base_uri": "https://localhost:8080/",
     "height": 36
    },
    "executionInfo": {
     "elapsed": 521,
     "status": "ok",
     "timestamp": 1613714417507,
     "user": {
      "displayName": "이성렬",
      "photoUrl": "",
      "userId": "08044204928861003367"
     },
     "user_tz": -540
    },
    "id": "NrP2rRXi38Va",
    "outputId": "e36745da-6098-4a50-edda-510e2d129901"
   },
   "outputs": [
    {
     "data": {
      "application/vnd.google.colaboratory.intrinsic+json": {
       "type": "string"
      },
      "text/plain": [
       "'.'"
      ]
     },
     "execution_count": 12,
     "metadata": {
      "tags": []
     },
     "output_type": "execute_result"
    }
   ],
   "source": [
    "S1[-1]"
   ]
  },
  {
   "cell_type": "code",
   "execution_count": 13,
   "metadata": {
    "colab": {
     "base_uri": "https://localhost:8080/",
     "height": 36
    },
    "executionInfo": {
     "elapsed": 542,
     "status": "ok",
     "timestamp": 1613714424077,
     "user": {
      "displayName": "이성렬",
      "photoUrl": "",
      "userId": "08044204928861003367"
     },
     "user_tz": -540
    },
    "id": "oNT1d6Ip3-Um",
    "outputId": "34d7efd4-3bda-4387-b944-0d0553e16673"
   },
   "outputs": [
    {
     "data": {
      "application/vnd.google.colaboratory.intrinsic+json": {
       "type": "string"
      },
      "text/plain": [
       "'i'"
      ]
     },
     "execution_count": 13,
     "metadata": {
      "tags": []
     },
     "output_type": "execute_result"
    }
   ],
   "source": [
    "S1[-13]"
   ]
  },
  {
   "cell_type": "code",
   "execution_count": 14,
   "metadata": {
    "colab": {
     "base_uri": "https://localhost:8080/",
     "height": 36
    },
    "executionInfo": {
     "elapsed": 590,
     "status": "ok",
     "timestamp": 1613714430148,
     "user": {
      "displayName": "이성렬",
      "photoUrl": "",
      "userId": "08044204928861003367"
     },
     "user_tz": -540
    },
    "id": "WOzeIR3S3_7E",
    "outputId": "530b16d2-bb6a-4b39-c145-7e5dd9239e8f"
   },
   "outputs": [
    {
     "data": {
      "application/vnd.google.colaboratory.intrinsic+json": {
       "type": "string"
      },
      "text/plain": [
       "'r'"
      ]
     },
     "execution_count": 14,
     "metadata": {
      "tags": []
     },
     "output_type": "execute_result"
    }
   ],
   "source": [
    "S1[-18]"
   ]
  },
  {
   "cell_type": "markdown",
   "metadata": {
    "id": "XbTsRe_44JTP"
   },
   "source": [
    "> ## 3) Slicing"
   ]
  },
  {
   "cell_type": "code",
   "execution_count": 15,
   "metadata": {
    "colab": {
     "base_uri": "https://localhost:8080/"
    },
    "executionInfo": {
     "elapsed": 528,
     "status": "ok",
     "timestamp": 1613714480648,
     "user": {
      "displayName": "이성렬",
      "photoUrl": "",
      "userId": "08044204928861003367"
     },
     "user_tz": -540
    },
    "id": "5ISM6Fgk4MXe",
    "outputId": "4ed63703-1ced-41e6-effc-9be049eccc8b"
   },
   "outputs": [
    {
     "name": "stdout",
     "output_type": "stream",
     "text": [
      "The truth is out there.\n"
     ]
    }
   ],
   "source": [
    "print(S1)"
   ]
  },
  {
   "cell_type": "code",
   "execution_count": 16,
   "metadata": {
    "colab": {
     "base_uri": "https://localhost:8080/",
     "height": 36
    },
    "executionInfo": {
     "elapsed": 561,
     "status": "ok",
     "timestamp": 1613714513612,
     "user": {
      "displayName": "이성렬",
      "photoUrl": "",
      "userId": "08044204928861003367"
     },
     "user_tz": -540
    },
    "id": "sPvJUiHL4NvQ",
    "outputId": "0ab6bf99-3d5c-4203-8cf4-9adce2cb68a8"
   },
   "outputs": [
    {
     "data": {
      "application/vnd.google.colaboratory.intrinsic+json": {
       "type": "string"
      },
      "text/plain": [
       "'truth'"
      ]
     },
     "execution_count": 16,
     "metadata": {
      "tags": []
     },
     "output_type": "execute_result"
    }
   ],
   "source": [
    "S1[4] + S1[5] + S1[6] + S1[7] + S1[8]"
   ]
  },
  {
   "cell_type": "markdown",
   "metadata": {
    "id": "0UfOySKR4Wjs"
   },
   "source": [
    "-  with Slicing"
   ]
  },
  {
   "cell_type": "code",
   "execution_count": 17,
   "metadata": {
    "colab": {
     "base_uri": "https://localhost:8080/",
     "height": 36
    },
    "executionInfo": {
     "elapsed": 536,
     "status": "ok",
     "timestamp": 1613714535714,
     "user": {
      "displayName": "이성렬",
      "photoUrl": "",
      "userId": "08044204928861003367"
     },
     "user_tz": -540
    },
    "id": "cUKdE8X24Vxt",
    "outputId": "0f50b3c3-bde3-4b82-a163-76b90985ddf6"
   },
   "outputs": [
    {
     "data": {
      "application/vnd.google.colaboratory.intrinsic+json": {
       "type": "string"
      },
      "text/plain": [
       "'truth'"
      ]
     },
     "execution_count": 17,
     "metadata": {
      "tags": []
     },
     "output_type": "execute_result"
    }
   ],
   "source": [
    "S1[4:9]"
   ]
  },
  {
   "cell_type": "code",
   "execution_count": 18,
   "metadata": {
    "colab": {
     "base_uri": "https://localhost:8080/",
     "height": 36
    },
    "executionInfo": {
     "elapsed": 597,
     "status": "ok",
     "timestamp": 1613714549202,
     "user": {
      "displayName": "이성렬",
      "photoUrl": "",
      "userId": "08044204928861003367"
     },
     "user_tz": -540
    },
    "id": "4PlImpCg4bLc",
    "outputId": "e4ebc87a-32c4-4fdc-ff80-658c6ad41405"
   },
   "outputs": [
    {
     "data": {
      "application/vnd.google.colaboratory.intrinsic+json": {
       "type": "string"
      },
      "text/plain": [
       "'is'"
      ]
     },
     "execution_count": 18,
     "metadata": {
      "tags": []
     },
     "output_type": "execute_result"
    }
   ],
   "source": [
    "S1[10:12]"
   ]
  },
  {
   "cell_type": "code",
   "execution_count": 19,
   "metadata": {
    "colab": {
     "base_uri": "https://localhost:8080/",
     "height": 36
    },
    "executionInfo": {
     "elapsed": 853,
     "status": "ok",
     "timestamp": 1613714556986,
     "user": {
      "displayName": "이성렬",
      "photoUrl": "",
      "userId": "08044204928861003367"
     },
     "user_tz": -540
    },
    "id": "ebSFxeVZ4edI",
    "outputId": "7d30b559-248e-420e-bf7b-2ff5843ac166"
   },
   "outputs": [
    {
     "data": {
      "application/vnd.google.colaboratory.intrinsic+json": {
       "type": "string"
      },
      "text/plain": [
       "'The truth is'"
      ]
     },
     "execution_count": 19,
     "metadata": {
      "tags": []
     },
     "output_type": "execute_result"
    }
   ],
   "source": [
    "S1[:12]"
   ]
  },
  {
   "cell_type": "code",
   "execution_count": 20,
   "metadata": {
    "colab": {
     "base_uri": "https://localhost:8080/",
     "height": 36
    },
    "executionInfo": {
     "elapsed": 560,
     "status": "ok",
     "timestamp": 1613714569510,
     "user": {
      "displayName": "이성렬",
      "photoUrl": "",
      "userId": "08044204928861003367"
     },
     "user_tz": -540
    },
    "id": "ZpmtGkWR4gS-",
    "outputId": "0bb5abb4-25d1-4434-db50-890d7cda1c26"
   },
   "outputs": [
    {
     "data": {
      "application/vnd.google.colaboratory.intrinsic+json": {
       "type": "string"
      },
      "text/plain": [
       "'out there.'"
      ]
     },
     "execution_count": 20,
     "metadata": {
      "tags": []
     },
     "output_type": "execute_result"
    }
   ],
   "source": [
    "S1[13:]"
   ]
  },
  {
   "cell_type": "code",
   "execution_count": 21,
   "metadata": {
    "colab": {
     "base_uri": "https://localhost:8080/",
     "height": 36
    },
    "executionInfo": {
     "elapsed": 433,
     "status": "ok",
     "timestamp": 1613714582380,
     "user": {
      "displayName": "이성렬",
      "photoUrl": "",
      "userId": "08044204928861003367"
     },
     "user_tz": -540
    },
    "id": "D1qoDPJc4jbF",
    "outputId": "acf2165d-b680-4dc1-83e9-ad754725ab96"
   },
   "outputs": [
    {
     "data": {
      "application/vnd.google.colaboratory.intrinsic+json": {
       "type": "string"
      },
      "text/plain": [
       "'out'"
      ]
     },
     "execution_count": 21,
     "metadata": {
      "tags": []
     },
     "output_type": "execute_result"
    }
   ],
   "source": [
    "S1[13:-7]"
   ]
  },
  {
   "cell_type": "markdown",
   "metadata": {
    "id": "I2ddvwR34oF-"
   },
   "source": [
    "# II. List"
   ]
  },
  {
   "cell_type": "markdown",
   "metadata": {
    "id": "n6Uyvo7Z4q1P"
   },
   "source": [
    "> ## 1) [] 기호로 선언"
   ]
  },
  {
   "cell_type": "markdown",
   "metadata": {
    "id": "eSk9JSe84yUx"
   },
   "source": [
    "- 값 변경 가능"
   ]
  },
  {
   "cell_type": "code",
   "execution_count": 22,
   "metadata": {
    "colab": {
     "base_uri": "https://localhost:8080/"
    },
    "executionInfo": {
     "elapsed": 697,
     "status": "ok",
     "timestamp": 1613714653963,
     "user": {
      "displayName": "이성렬",
      "photoUrl": "",
      "userId": "08044204928861003367"
     },
     "user_tz": -540
    },
    "id": "lScMXDgv4vc-",
    "outputId": "0d74810a-8a21-413d-8a77-744be663f603"
   },
   "outputs": [
    {
     "name": "stdout",
     "output_type": "stream",
     "text": [
      "[1, 3, 5, 7, 9]\n"
     ]
    }
   ],
   "source": [
    "L1 = [1, 3, 5, 7, 9]\n",
    "print(L1)"
   ]
  },
  {
   "cell_type": "code",
   "execution_count": 23,
   "metadata": {
    "colab": {
     "base_uri": "https://localhost:8080/"
    },
    "executionInfo": {
     "elapsed": 569,
     "status": "ok",
     "timestamp": 1613714672457,
     "user": {
      "displayName": "이성렬",
      "photoUrl": "",
      "userId": "08044204928861003367"
     },
     "user_tz": -540
    },
    "id": "YHsRm6Yz44An",
    "outputId": "82a9b391-c88d-4e1c-ab08-8ae3f03bd3ff"
   },
   "outputs": [
    {
     "name": "stdout",
     "output_type": "stream",
     "text": [
      "<class 'list'>\n",
      "<class 'int'>\n"
     ]
    }
   ],
   "source": [
    "print(type(L1))\n",
    "print(type(L1[0]))"
   ]
  },
  {
   "cell_type": "code",
   "execution_count": 24,
   "metadata": {
    "colab": {
     "base_uri": "https://localhost:8080/"
    },
    "executionInfo": {
     "elapsed": 785,
     "status": "ok",
     "timestamp": 1613714718158,
     "user": {
      "displayName": "이성렬",
      "photoUrl": "",
      "userId": "08044204928861003367"
     },
     "user_tz": -540
    },
    "id": "SObelIyP48jr",
    "outputId": "9e01fef1-240d-4d35-9de7-0fe8f13f3ddc"
   },
   "outputs": [
    {
     "name": "stdout",
     "output_type": "stream",
     "text": [
      "['HP', 'IBM', 'DELL', 'EMC', 'MS']\n"
     ]
    }
   ],
   "source": [
    "L2 = ['HP', 'IBM', 'DELL', 'EMC', 'MS']\n",
    "print(L2)"
   ]
  },
  {
   "cell_type": "code",
   "execution_count": 25,
   "metadata": {
    "colab": {
     "base_uri": "https://localhost:8080/"
    },
    "executionInfo": {
     "elapsed": 541,
     "status": "ok",
     "timestamp": 1613714754206,
     "user": {
      "displayName": "이성렬",
      "photoUrl": "",
      "userId": "08044204928861003367"
     },
     "user_tz": -540
    },
    "id": "rP3kdydp5HqN",
    "outputId": "37467050-c9cd-4cff-926a-5cab8c89fbd7"
   },
   "outputs": [
    {
     "name": "stdout",
     "output_type": "stream",
     "text": [
      "<class 'list'>\n",
      "<class 'str'>\n"
     ]
    }
   ],
   "source": [
    "print(type(L2))\n",
    "print(type(L2[0]))"
   ]
  },
  {
   "cell_type": "code",
   "execution_count": 26,
   "metadata": {
    "colab": {
     "base_uri": "https://localhost:8080/"
    },
    "executionInfo": {
     "elapsed": 923,
     "status": "ok",
     "timestamp": 1613714787775,
     "user": {
      "displayName": "이성렬",
      "photoUrl": "",
      "userId": "08044204928861003367"
     },
     "user_tz": -540
    },
    "id": "YJJoXqrJ5QhT",
    "outputId": "c85b9ab3-38a5-4fb8-ea5b-dcca526b4eb6"
   },
   "outputs": [
    {
     "name": "stdout",
     "output_type": "stream",
     "text": [
      "[1, '삼', 5, '칠', 9]\n"
     ]
    }
   ],
   "source": [
    "L3 = [1, '삼', 5, '칠', 9]\n",
    "print(L3)"
   ]
  },
  {
   "cell_type": "code",
   "execution_count": 27,
   "metadata": {
    "colab": {
     "base_uri": "https://localhost:8080/"
    },
    "executionInfo": {
     "elapsed": 550,
     "status": "ok",
     "timestamp": 1613714814909,
     "user": {
      "displayName": "이성렬",
      "photoUrl": "",
      "userId": "08044204928861003367"
     },
     "user_tz": -540
    },
    "id": "qGt8a6Nt5Yn7",
    "outputId": "2fec3cbf-7042-4c7d-fe7b-e1db595802e0"
   },
   "outputs": [
    {
     "name": "stdout",
     "output_type": "stream",
     "text": [
      "<class 'list'>\n",
      "<class 'int'>\n",
      "<class 'str'>\n"
     ]
    }
   ],
   "source": [
    "print(type(L3))\n",
    "print(type(L3[0]))\n",
    "print(type(L3[1]))"
   ]
  },
  {
   "cell_type": "code",
   "execution_count": 28,
   "metadata": {
    "colab": {
     "base_uri": "https://localhost:8080/"
    },
    "executionInfo": {
     "elapsed": 587,
     "status": "ok",
     "timestamp": 1613714846756,
     "user": {
      "displayName": "이성렬",
      "photoUrl": "",
      "userId": "08044204928861003367"
     },
     "user_tz": -540
    },
    "id": "vHhCYECo5fVn",
    "outputId": "8c9ca240-5656-44d3-9951-a63df802250b"
   },
   "outputs": [
    {
     "name": "stdout",
     "output_type": "stream",
     "text": [
      "[1, 3, ['HP', 'MS']]\n"
     ]
    }
   ],
   "source": [
    "L4 = [1, 3, ['HP', 'MS']]\n",
    "print(L4)"
   ]
  },
  {
   "cell_type": "code",
   "execution_count": 29,
   "metadata": {
    "colab": {
     "base_uri": "https://localhost:8080/"
    },
    "executionInfo": {
     "elapsed": 524,
     "status": "ok",
     "timestamp": 1613714879161,
     "user": {
      "displayName": "이성렬",
      "photoUrl": "",
      "userId": "08044204928861003367"
     },
     "user_tz": -540
    },
    "id": "1Cj0TsH45nGv",
    "outputId": "27784895-6bf0-4d41-e24f-4d0eff81a08f"
   },
   "outputs": [
    {
     "name": "stdout",
     "output_type": "stream",
     "text": [
      "<class 'list'>\n",
      "<class 'int'>\n",
      "<class 'list'>\n",
      "<class 'str'>\n"
     ]
    }
   ],
   "source": [
    "print(type(L4))\n",
    "print(type(L4[1]))\n",
    "print(type(L4[2]))\n",
    "print(type(L4[2][0]))"
   ]
  },
  {
   "cell_type": "code",
   "execution_count": 30,
   "metadata": {
    "colab": {
     "base_uri": "https://localhost:8080/"
    },
    "executionInfo": {
     "elapsed": 803,
     "status": "ok",
     "timestamp": 1613714911784,
     "user": {
      "displayName": "이성렬",
      "photoUrl": "",
      "userId": "08044204928861003367"
     },
     "user_tz": -540
    },
    "id": "wZiwxi_q5vBp",
    "outputId": "0f1d3ca7-f049-4e90-af0d-9ca6f74f5f18"
   },
   "outputs": [
    {
     "name": "stdout",
     "output_type": "stream",
     "text": [
      "[5, 7, ('IBM', 'EMC')]\n"
     ]
    }
   ],
   "source": [
    "L5 = [5, 7, ('IBM', 'EMC')]\n",
    "print(L5)"
   ]
  },
  {
   "cell_type": "code",
   "execution_count": 31,
   "metadata": {
    "colab": {
     "base_uri": "https://localhost:8080/"
    },
    "executionInfo": {
     "elapsed": 594,
     "status": "ok",
     "timestamp": 1613714930111,
     "user": {
      "displayName": "이성렬",
      "photoUrl": "",
      "userId": "08044204928861003367"
     },
     "user_tz": -540
    },
    "id": "NNSiMZjK527C",
    "outputId": "76c9f1ae-f639-4649-9966-6c51fc0906d5"
   },
   "outputs": [
    {
     "name": "stdout",
     "output_type": "stream",
     "text": [
      "<class 'list'>\n",
      "<class 'int'>\n",
      "<class 'tuple'>\n",
      "<class 'str'>\n"
     ]
    }
   ],
   "source": [
    "print(type(L5))\n",
    "print(type(L5[1]))\n",
    "print(type(L5[2]))\n",
    "print(type(L5[2][0]))"
   ]
  },
  {
   "cell_type": "markdown",
   "metadata": {
    "id": "N3atIYlk59X-"
   },
   "source": [
    "> ## 2) Indexing"
   ]
  },
  {
   "cell_type": "markdown",
   "metadata": {
    "id": "qUaJCrnq6AWC"
   },
   "source": [
    "- with L1"
   ]
  },
  {
   "cell_type": "code",
   "execution_count": 32,
   "metadata": {
    "colab": {
     "base_uri": "https://localhost:8080/"
    },
    "executionInfo": {
     "elapsed": 592,
     "status": "ok",
     "timestamp": 1613714962062,
     "user": {
      "displayName": "이성렬",
      "photoUrl": "",
      "userId": "08044204928861003367"
     },
     "user_tz": -540
    },
    "id": "6OQGhA7V6B_r",
    "outputId": "172a847c-ffca-491a-db3d-157c80a13330"
   },
   "outputs": [
    {
     "name": "stdout",
     "output_type": "stream",
     "text": [
      "[1, 3, 5, 7, 9]\n"
     ]
    }
   ],
   "source": [
    "print(L1)"
   ]
  },
  {
   "cell_type": "code",
   "execution_count": 33,
   "metadata": {
    "colab": {
     "base_uri": "https://localhost:8080/"
    },
    "executionInfo": {
     "elapsed": 568,
     "status": "ok",
     "timestamp": 1613714968967,
     "user": {
      "displayName": "이성렬",
      "photoUrl": "",
      "userId": "08044204928861003367"
     },
     "user_tz": -540
    },
    "id": "c8PfhMf66DP-",
    "outputId": "5965c767-1f11-4a36-f13a-a81245e694ec"
   },
   "outputs": [
    {
     "data": {
      "text/plain": [
       "5"
      ]
     },
     "execution_count": 33,
     "metadata": {
      "tags": []
     },
     "output_type": "execute_result"
    }
   ],
   "source": [
    "L1[2]"
   ]
  },
  {
   "cell_type": "code",
   "execution_count": 34,
   "metadata": {
    "colab": {
     "base_uri": "https://localhost:8080/"
    },
    "executionInfo": {
     "elapsed": 742,
     "status": "ok",
     "timestamp": 1613714985117,
     "user": {
      "displayName": "이성렬",
      "photoUrl": "",
      "userId": "08044204928861003367"
     },
     "user_tz": -540
    },
    "id": "ptSkQRYj6E8o",
    "outputId": "63597bc3-721f-47d4-8146-42f5c7b665e6"
   },
   "outputs": [
    {
     "data": {
      "text/plain": [
       "14"
      ]
     },
     "execution_count": 34,
     "metadata": {
      "tags": []
     },
     "output_type": "execute_result"
    }
   ],
   "source": [
    "L1[2] + L1[4]"
   ]
  },
  {
   "cell_type": "code",
   "execution_count": 35,
   "metadata": {
    "colab": {
     "base_uri": "https://localhost:8080/"
    },
    "executionInfo": {
     "elapsed": 551,
     "status": "ok",
     "timestamp": 1613715022553,
     "user": {
      "displayName": "이성렬",
      "photoUrl": "",
      "userId": "08044204928861003367"
     },
     "user_tz": -540
    },
    "id": "u38d3UFK6I1x",
    "outputId": "65aa4b1a-95cb-4814-8102-69cf39dbda89"
   },
   "outputs": [
    {
     "data": {
      "text/plain": [
       "7"
      ]
     },
     "execution_count": 35,
     "metadata": {
      "tags": []
     },
     "output_type": "execute_result"
    }
   ],
   "source": [
    "L1[-2]"
   ]
  },
  {
   "cell_type": "markdown",
   "metadata": {
    "id": "ySYq-_Ej6St-"
   },
   "source": [
    "- with L4"
   ]
  },
  {
   "cell_type": "code",
   "execution_count": 36,
   "metadata": {
    "colab": {
     "base_uri": "https://localhost:8080/"
    },
    "executionInfo": {
     "elapsed": 540,
     "status": "ok",
     "timestamp": 1613715036793,
     "user": {
      "displayName": "이성렬",
      "photoUrl": "",
      "userId": "08044204928861003367"
     },
     "user_tz": -540
    },
    "id": "btbW0-gO6SCJ",
    "outputId": "ff8ceb1e-12ba-4029-a41d-25378ca65fc6"
   },
   "outputs": [
    {
     "name": "stdout",
     "output_type": "stream",
     "text": [
      "[1, 3, ['HP', 'MS']]\n"
     ]
    }
   ],
   "source": [
    "print(L4)"
   ]
  },
  {
   "cell_type": "code",
   "execution_count": 37,
   "metadata": {
    "colab": {
     "base_uri": "https://localhost:8080/"
    },
    "executionInfo": {
     "elapsed": 542,
     "status": "ok",
     "timestamp": 1613715042708,
     "user": {
      "displayName": "이성렬",
      "photoUrl": "",
      "userId": "08044204928861003367"
     },
     "user_tz": -540
    },
    "id": "nffQePdD6VgP",
    "outputId": "02da4958-5f37-4a1c-cb42-908a3f1566fc"
   },
   "outputs": [
    {
     "data": {
      "text/plain": [
       "3"
      ]
     },
     "execution_count": 37,
     "metadata": {
      "tags": []
     },
     "output_type": "execute_result"
    }
   ],
   "source": [
    "L4[1]"
   ]
  },
  {
   "cell_type": "code",
   "execution_count": 38,
   "metadata": {
    "colab": {
     "base_uri": "https://localhost:8080/"
    },
    "executionInfo": {
     "elapsed": 861,
     "status": "ok",
     "timestamp": 1613715047136,
     "user": {
      "displayName": "이성렬",
      "photoUrl": "",
      "userId": "08044204928861003367"
     },
     "user_tz": -540
    },
    "id": "m-YN0crr6W9N",
    "outputId": "fc09bab1-0fb2-4a18-d293-664d4ef20639"
   },
   "outputs": [
    {
     "data": {
      "text/plain": [
       "['HP', 'MS']"
      ]
     },
     "execution_count": 38,
     "metadata": {
      "tags": []
     },
     "output_type": "execute_result"
    }
   ],
   "source": [
    "L4[2]"
   ]
  },
  {
   "cell_type": "code",
   "execution_count": 39,
   "metadata": {
    "colab": {
     "base_uri": "https://localhost:8080/",
     "height": 36
    },
    "executionInfo": {
     "elapsed": 557,
     "status": "ok",
     "timestamp": 1613715053829,
     "user": {
      "displayName": "이성렬",
      "photoUrl": "",
      "userId": "08044204928861003367"
     },
     "user_tz": -540
    },
    "id": "77tuYdbN6X9W",
    "outputId": "f487af8e-af27-4dfe-a27d-b1216fb06ba2"
   },
   "outputs": [
    {
     "data": {
      "application/vnd.google.colaboratory.intrinsic+json": {
       "type": "string"
      },
      "text/plain": [
       "'MS'"
      ]
     },
     "execution_count": 39,
     "metadata": {
      "tags": []
     },
     "output_type": "execute_result"
    }
   ],
   "source": [
    "L4[2][1]"
   ]
  },
  {
   "cell_type": "code",
   "execution_count": 40,
   "metadata": {
    "colab": {
     "base_uri": "https://localhost:8080/",
     "height": 36
    },
    "executionInfo": {
     "elapsed": 586,
     "status": "ok",
     "timestamp": 1613715072328,
     "user": {
      "displayName": "이성렬",
      "photoUrl": "",
      "userId": "08044204928861003367"
     },
     "user_tz": -540
    },
    "id": "r7Ds6bk26Zqb",
    "outputId": "489745af-a64f-4278-f22b-de1abef4dd28"
   },
   "outputs": [
    {
     "data": {
      "application/vnd.google.colaboratory.intrinsic+json": {
       "type": "string"
      },
      "text/plain": [
       "'HPMS'"
      ]
     },
     "execution_count": 40,
     "metadata": {
      "tags": []
     },
     "output_type": "execute_result"
    }
   ],
   "source": [
    "L4[2][0] + L4[2][1]"
   ]
  },
  {
   "cell_type": "markdown",
   "metadata": {
    "id": "DlqZfaHW6fNB"
   },
   "source": [
    "> ## 3) Slicing"
   ]
  },
  {
   "cell_type": "markdown",
   "metadata": {
    "id": "lqOiLVLH6hNp"
   },
   "source": [
    "- with L1"
   ]
  },
  {
   "cell_type": "code",
   "execution_count": 41,
   "metadata": {
    "colab": {
     "base_uri": "https://localhost:8080/"
    },
    "executionInfo": {
     "elapsed": 532,
     "status": "ok",
     "timestamp": 1613715098778,
     "user": {
      "displayName": "이성렬",
      "photoUrl": "",
      "userId": "08044204928861003367"
     },
     "user_tz": -540
    },
    "id": "YAjlqXgp6is2",
    "outputId": "3f254ebd-24cc-4dd2-c640-ff3239314427"
   },
   "outputs": [
    {
     "name": "stdout",
     "output_type": "stream",
     "text": [
      "[1, 3, 5, 7, 9]\n"
     ]
    }
   ],
   "source": [
    "print(L1)"
   ]
  },
  {
   "cell_type": "code",
   "execution_count": 42,
   "metadata": {
    "colab": {
     "base_uri": "https://localhost:8080/"
    },
    "executionInfo": {
     "elapsed": 592,
     "status": "ok",
     "timestamp": 1613715109471,
     "user": {
      "displayName": "이성렬",
      "photoUrl": "",
      "userId": "08044204928861003367"
     },
     "user_tz": -540
    },
    "id": "MTABAnBL6kpW",
    "outputId": "73a39385-952b-44b5-da73-f4613aa304e0"
   },
   "outputs": [
    {
     "data": {
      "text/plain": [
       "[3, 5, 7]"
      ]
     },
     "execution_count": 42,
     "metadata": {
      "tags": []
     },
     "output_type": "execute_result"
    }
   ],
   "source": [
    "L1[1:4]"
   ]
  },
  {
   "cell_type": "code",
   "execution_count": 43,
   "metadata": {
    "colab": {
     "base_uri": "https://localhost:8080/"
    },
    "executionInfo": {
     "elapsed": 862,
     "status": "ok",
     "timestamp": 1613715114701,
     "user": {
      "displayName": "이성렬",
      "photoUrl": "",
      "userId": "08044204928861003367"
     },
     "user_tz": -540
    },
    "id": "PLl9X4Ga6nPc",
    "outputId": "b4c92ee0-9d41-4f1f-ed3f-244720ba5189"
   },
   "outputs": [
    {
     "data": {
      "text/plain": [
       "[1, 3, 5]"
      ]
     },
     "execution_count": 43,
     "metadata": {
      "tags": []
     },
     "output_type": "execute_result"
    }
   ],
   "source": [
    "L1[:3]"
   ]
  },
  {
   "cell_type": "code",
   "execution_count": 44,
   "metadata": {
    "colab": {
     "base_uri": "https://localhost:8080/"
    },
    "executionInfo": {
     "elapsed": 547,
     "status": "ok",
     "timestamp": 1613715127781,
     "user": {
      "displayName": "이성렬",
      "photoUrl": "",
      "userId": "08044204928861003367"
     },
     "user_tz": -540
    },
    "id": "2FdytBak6odC",
    "outputId": "08de6465-c039-41e3-f368-b378480a7440"
   },
   "outputs": [
    {
     "data": {
      "text/plain": [
       "[5, 7, 9]"
      ]
     },
     "execution_count": 44,
     "metadata": {
      "tags": []
     },
     "output_type": "execute_result"
    }
   ],
   "source": [
    "L1[2:]"
   ]
  },
  {
   "cell_type": "markdown",
   "metadata": {
    "id": "YPtdgYeM6sVB"
   },
   "source": [
    "- with L6"
   ]
  },
  {
   "cell_type": "code",
   "execution_count": 45,
   "metadata": {
    "colab": {
     "base_uri": "https://localhost:8080/"
    },
    "executionInfo": {
     "elapsed": 702,
     "status": "ok",
     "timestamp": 1613715153999,
     "user": {
      "displayName": "이성렬",
      "photoUrl": "",
      "userId": "08044204928861003367"
     },
     "user_tz": -540
    },
    "id": "LL_C2sM-6ruZ",
    "outputId": "19e004e4-fe2c-469e-bced-bd7cb64b168d"
   },
   "outputs": [
    {
     "name": "stdout",
     "output_type": "stream",
     "text": [
      "[1, 3, 5, [2, 4, 6]]\n"
     ]
    }
   ],
   "source": [
    "L6 = [1, 3, 5, [2, 4, 6]]\n",
    "print(L6)"
   ]
  },
  {
   "cell_type": "code",
   "execution_count": 46,
   "metadata": {
    "colab": {
     "base_uri": "https://localhost:8080/"
    },
    "executionInfo": {
     "elapsed": 554,
     "status": "ok",
     "timestamp": 1613715162050,
     "user": {
      "displayName": "이성렬",
      "photoUrl": "",
      "userId": "08044204928861003367"
     },
     "user_tz": -540
    },
    "id": "NK-vSzn56yFm",
    "outputId": "0491c813-c625-4d31-f204-575c2eb9f79f"
   },
   "outputs": [
    {
     "data": {
      "text/plain": [
       "[5, [2, 4, 6]]"
      ]
     },
     "execution_count": 46,
     "metadata": {
      "tags": []
     },
     "output_type": "execute_result"
    }
   ],
   "source": [
    "L6[2:]"
   ]
  },
  {
   "cell_type": "code",
   "execution_count": 47,
   "metadata": {
    "colab": {
     "base_uri": "https://localhost:8080/"
    },
    "executionInfo": {
     "elapsed": 564,
     "status": "ok",
     "timestamp": 1613715172333,
     "user": {
      "displayName": "이성렬",
      "photoUrl": "",
      "userId": "08044204928861003367"
     },
     "user_tz": -540
    },
    "id": "M6iYf5do60Fs",
    "outputId": "ffcb6085-5d48-4ba1-893f-bb61947d3ff8"
   },
   "outputs": [
    {
     "data": {
      "text/plain": [
       "[2, 4, 6]"
      ]
     },
     "execution_count": 47,
     "metadata": {
      "tags": []
     },
     "output_type": "execute_result"
    }
   ],
   "source": [
    "L6[3]"
   ]
  },
  {
   "cell_type": "code",
   "execution_count": 48,
   "metadata": {
    "colab": {
     "base_uri": "https://localhost:8080/"
    },
    "executionInfo": {
     "elapsed": 601,
     "status": "ok",
     "timestamp": 1613715184562,
     "user": {
      "displayName": "이성렬",
      "photoUrl": "",
      "userId": "08044204928861003367"
     },
     "user_tz": -540
    },
    "id": "Kp0a9woy62mO",
    "outputId": "28c56390-fc36-4f26-bfee-0d63a92da106"
   },
   "outputs": [
    {
     "data": {
      "text/plain": [
       "[2, 4]"
      ]
     },
     "execution_count": 48,
     "metadata": {
      "tags": []
     },
     "output_type": "execute_result"
    }
   ],
   "source": [
    "L6[3][0:2]"
   ]
  },
  {
   "cell_type": "markdown",
   "metadata": {
    "id": "iJ450Li166wI"
   },
   "source": [
    "> ## 4) Change Values"
   ]
  },
  {
   "cell_type": "markdown",
   "metadata": {
    "id": "ly-jt2ID6-Y_"
   },
   "source": [
    "- 5 to 6"
   ]
  },
  {
   "cell_type": "code",
   "execution_count": 49,
   "metadata": {
    "colab": {
     "base_uri": "https://localhost:8080/"
    },
    "executionInfo": {
     "elapsed": 541,
     "status": "ok",
     "timestamp": 1613715219771,
     "user": {
      "displayName": "이성렬",
      "photoUrl": "",
      "userId": "08044204928861003367"
     },
     "user_tz": -540
    },
    "id": "pUT9VSNr7A33",
    "outputId": "53ad302e-de2b-4803-af13-c54ed604ac2c"
   },
   "outputs": [
    {
     "name": "stdout",
     "output_type": "stream",
     "text": [
      "[1, 3, 5, 7, 9]\n"
     ]
    }
   ],
   "source": [
    "print(L1)"
   ]
  },
  {
   "cell_type": "code",
   "execution_count": 50,
   "metadata": {
    "colab": {
     "base_uri": "https://localhost:8080/"
    },
    "executionInfo": {
     "elapsed": 561,
     "status": "ok",
     "timestamp": 1613715234069,
     "user": {
      "displayName": "이성렬",
      "photoUrl": "",
      "userId": "08044204928861003367"
     },
     "user_tz": -540
    },
    "id": "F7RgBX907CLr",
    "outputId": "0bbcfe8a-69e5-4013-888a-6936287268a3"
   },
   "outputs": [
    {
     "name": "stdout",
     "output_type": "stream",
     "text": [
      "[1, 3, 6, 7, 9]\n"
     ]
    }
   ],
   "source": [
    "L1[2] = 6\n",
    "print(L1)"
   ]
  },
  {
   "cell_type": "markdown",
   "metadata": {
    "id": "sf7IWgJz7GoT"
   },
   "source": [
    "> ## 5) Delete Values"
   ]
  },
  {
   "cell_type": "code",
   "execution_count": 51,
   "metadata": {
    "colab": {
     "base_uri": "https://localhost:8080/"
    },
    "executionInfo": {
     "elapsed": 543,
     "status": "ok",
     "timestamp": 1613715254092,
     "user": {
      "displayName": "이성렬",
      "photoUrl": "",
      "userId": "08044204928861003367"
     },
     "user_tz": -540
    },
    "id": "M8lCCWzn7Fq0",
    "outputId": "fb34c19e-1f22-4550-9b81-8d94306bb23e"
   },
   "outputs": [
    {
     "name": "stdout",
     "output_type": "stream",
     "text": [
      "[1, 3, 6, 7, 9]\n"
     ]
    }
   ],
   "source": [
    "print(L1)"
   ]
  },
  {
   "cell_type": "code",
   "execution_count": 52,
   "metadata": {
    "colab": {
     "base_uri": "https://localhost:8080/"
    },
    "executionInfo": {
     "elapsed": 578,
     "status": "ok",
     "timestamp": 1613715275174,
     "user": {
      "displayName": "이성렬",
      "photoUrl": "",
      "userId": "08044204928861003367"
     },
     "user_tz": -540
    },
    "id": "QHsCJw2I7Kj8",
    "outputId": "cc1988fb-5fdd-4545-fb74-303549f85adc"
   },
   "outputs": [
    {
     "name": "stdout",
     "output_type": "stream",
     "text": [
      "[1, 3, 9]\n"
     ]
    }
   ],
   "source": [
    "L1[2:4] = []\n",
    "print(L1)"
   ]
  },
  {
   "cell_type": "code",
   "execution_count": 53,
   "metadata": {
    "colab": {
     "base_uri": "https://localhost:8080/"
    },
    "executionInfo": {
     "elapsed": 635,
     "status": "ok",
     "timestamp": 1613715307197,
     "user": {
      "displayName": "이성렬",
      "photoUrl": "",
      "userId": "08044204928861003367"
     },
     "user_tz": -540
    },
    "id": "bkyO4mx57Psm",
    "outputId": "862e53e1-1cac-48d0-9928-430babbc6168"
   },
   "outputs": [
    {
     "name": "stdout",
     "output_type": "stream",
     "text": [
      "[1, 3]\n"
     ]
    }
   ],
   "source": [
    "del L1[2]\n",
    "print(L1)"
   ]
  },
  {
   "cell_type": "code",
   "execution_count": 54,
   "metadata": {
    "colab": {
     "base_uri": "https://localhost:8080/",
     "height": 193
    },
    "executionInfo": {
     "elapsed": 574,
     "status": "error",
     "timestamp": 1613715314956,
     "user": {
      "displayName": "이성렬",
      "photoUrl": "",
      "userId": "08044204928861003367"
     },
     "user_tz": -540
    },
    "id": "DmNbX9WS7XeC",
    "outputId": "b2e12da0-a1af-4fd3-ed56-97d3ea6bff00"
   },
   "outputs": [
    {
     "ename": "NameError",
     "evalue": "ignored",
     "output_type": "error",
     "traceback": [
      "\u001b[0;31m---------------------------------------------------------------------------\u001b[0m",
      "\u001b[0;31mNameError\u001b[0m                                 Traceback (most recent call last)",
      "\u001b[0;32m<ipython-input-54-6e970b11d734>\u001b[0m in \u001b[0;36m<module>\u001b[0;34m()\u001b[0m\n\u001b[1;32m      1\u001b[0m \u001b[0;32mdel\u001b[0m \u001b[0mL1\u001b[0m\u001b[0;34m\u001b[0m\u001b[0;34m\u001b[0m\u001b[0m\n\u001b[0;32m----> 2\u001b[0;31m \u001b[0mprint\u001b[0m\u001b[0;34m(\u001b[0m\u001b[0mL1\u001b[0m\u001b[0;34m)\u001b[0m\u001b[0;34m\u001b[0m\u001b[0;34m\u001b[0m\u001b[0m\n\u001b[0m",
      "\u001b[0;31mNameError\u001b[0m: name 'L1' is not defined"
     ]
    }
   ],
   "source": [
    "del L1\n",
    "print(L1)"
   ]
  },
  {
   "cell_type": "markdown",
   "metadata": {
    "id": "Z3LA36YM7ac_"
   },
   "source": [
    "> ## 6) Funciotn()"
   ]
  },
  {
   "cell_type": "code",
   "execution_count": 55,
   "metadata": {
    "colab": {
     "base_uri": "https://localhost:8080/"
    },
    "executionInfo": {
     "elapsed": 563,
     "status": "ok",
     "timestamp": 1613715344807,
     "user": {
      "displayName": "이성렬",
      "photoUrl": "",
      "userId": "08044204928861003367"
     },
     "user_tz": -540
    },
    "id": "lRkQGK5o7Zab",
    "outputId": "7d0c14d0-2bec-4e41-e075-26f7b3723602"
   },
   "outputs": [
    {
     "name": "stdout",
     "output_type": "stream",
     "text": [
      "[8, 3, 9, 2, 1]\n"
     ]
    }
   ],
   "source": [
    "L7 = [8, 3, 9, 2, 1]\n",
    "print(L7)"
   ]
  },
  {
   "cell_type": "markdown",
   "metadata": {
    "id": "5lFWT2e17hTA"
   },
   "source": [
    "- 오름차순 정렬"
   ]
  },
  {
   "cell_type": "code",
   "execution_count": 56,
   "metadata": {
    "colab": {
     "base_uri": "https://localhost:8080/"
    },
    "executionInfo": {
     "elapsed": 581,
     "status": "ok",
     "timestamp": 1613715389506,
     "user": {
      "displayName": "이성렬",
      "photoUrl": "",
      "userId": "08044204928861003367"
     },
     "user_tz": -540
    },
    "id": "BeGIuu-m7gtG",
    "outputId": "ab48b76b-8b30-4391-e958-e57d88370ec0"
   },
   "outputs": [
    {
     "name": "stdout",
     "output_type": "stream",
     "text": [
      "[1, 2, 3, 8, 9]\n"
     ]
    }
   ],
   "source": [
    "L7.sort()\n",
    "print(L7)"
   ]
  },
  {
   "cell_type": "markdown",
   "metadata": {
    "id": "7Rj9PZGi7tGr"
   },
   "source": [
    "- 역순 정렬"
   ]
  },
  {
   "cell_type": "code",
   "execution_count": 57,
   "metadata": {
    "colab": {
     "base_uri": "https://localhost:8080/"
    },
    "executionInfo": {
     "elapsed": 674,
     "status": "ok",
     "timestamp": 1613715420612,
     "user": {
      "displayName": "이성렬",
      "photoUrl": "",
      "userId": "08044204928861003367"
     },
     "user_tz": -540
    },
    "id": "MyLSaMit7rnI",
    "outputId": "6d91f8b3-04e2-4042-9973-e49c2f6e57d2"
   },
   "outputs": [
    {
     "name": "stdout",
     "output_type": "stream",
     "text": [
      "[9, 8, 3, 2, 1]\n"
     ]
    }
   ],
   "source": [
    "L7.reverse()\n",
    "print(L7)"
   ]
  },
  {
   "cell_type": "markdown",
   "metadata": {
    "id": "kGpc_ShU70Tm"
   },
   "source": [
    "- 마지막에 값 추가"
   ]
  },
  {
   "cell_type": "code",
   "execution_count": 58,
   "metadata": {
    "colab": {
     "base_uri": "https://localhost:8080/"
    },
    "executionInfo": {
     "elapsed": 586,
     "status": "ok",
     "timestamp": 1613715451738,
     "user": {
      "displayName": "이성렬",
      "photoUrl": "",
      "userId": "08044204928861003367"
     },
     "user_tz": -540
    },
    "id": "4aLipL4c7zLw",
    "outputId": "dc5cf30b-8b42-4534-def4-13d4a4d5db5b"
   },
   "outputs": [
    {
     "name": "stdout",
     "output_type": "stream",
     "text": [
      "[9, 8, 3, 2, 1, 0]\n"
     ]
    }
   ],
   "source": [
    "L7.append(0)\n",
    "print(L7)"
   ]
  },
  {
   "cell_type": "markdown",
   "metadata": {
    "id": "SDyfPpmg755c"
   },
   "source": [
    "- 2번 인덱스에 값 추가"
   ]
  },
  {
   "cell_type": "code",
   "execution_count": 59,
   "metadata": {
    "colab": {
     "base_uri": "https://localhost:8080/"
    },
    "executionInfo": {
     "elapsed": 597,
     "status": "ok",
     "timestamp": 1613715499247,
     "user": {
      "displayName": "이성렬",
      "photoUrl": "",
      "userId": "08044204928861003367"
     },
     "user_tz": -540
    },
    "id": "qwFe7yVw7-uK",
    "outputId": "1b80c6d6-7ed6-46f7-b391-190e593945e8"
   },
   "outputs": [
    {
     "name": "stdout",
     "output_type": "stream",
     "text": [
      "[9, 8, 5, 3, 2, 1, 0]\n"
     ]
    }
   ],
   "source": [
    "L7.insert(2, 5)\n",
    "print(L7)"
   ]
  },
  {
   "cell_type": "markdown",
   "metadata": {
    "id": "7tnS4IUJ8Hvw"
   },
   "source": [
    "> ## 7) Operators"
   ]
  },
  {
   "cell_type": "code",
   "execution_count": 60,
   "metadata": {
    "executionInfo": {
     "elapsed": 552,
     "status": "ok",
     "timestamp": 1613715547624,
     "user": {
      "displayName": "이성렬",
      "photoUrl": "",
      "userId": "08044204928861003367"
     },
     "user_tz": -540
    },
    "id": "Zl9Pp6dg8LTX"
   },
   "outputs": [],
   "source": [
    "L8 = [1, 3, 5, 7, 9]\n",
    "L9 = [2, 4, 6, 8, 10]"
   ]
  },
  {
   "cell_type": "code",
   "execution_count": 61,
   "metadata": {
    "colab": {
     "base_uri": "https://localhost:8080/"
    },
    "executionInfo": {
     "elapsed": 598,
     "status": "ok",
     "timestamp": 1613715553886,
     "user": {
      "displayName": "이성렬",
      "photoUrl": "",
      "userId": "08044204928861003367"
     },
     "user_tz": -540
    },
    "id": "PQjofeKV8SOG",
    "outputId": "8b5da8ac-1fa0-4fcb-e607-ef189214a2f0"
   },
   "outputs": [
    {
     "data": {
      "text/plain": [
       "[1, 3, 5, 7, 9, 2, 4, 6, 8, 10]"
      ]
     },
     "execution_count": 61,
     "metadata": {
      "tags": []
     },
     "output_type": "execute_result"
    }
   ],
   "source": [
    "L8 + L9"
   ]
  },
  {
   "cell_type": "code",
   "execution_count": 62,
   "metadata": {
    "colab": {
     "base_uri": "https://localhost:8080/"
    },
    "executionInfo": {
     "elapsed": 564,
     "status": "ok",
     "timestamp": 1613715563140,
     "user": {
      "displayName": "이성렬",
      "photoUrl": "",
      "userId": "08044204928861003367"
     },
     "user_tz": -540
    },
    "id": "E4k7ot_p8Tvb",
    "outputId": "21e95bb1-fae4-494a-f8fe-7c11323f983a"
   },
   "outputs": [
    {
     "data": {
      "text/plain": [
       "[1, 3, 5, 7, 9, 1, 3, 5, 7, 9]"
      ]
     },
     "execution_count": 62,
     "metadata": {
      "tags": []
     },
     "output_type": "execute_result"
    }
   ],
   "source": [
    "L8 * 2"
   ]
  },
  {
   "cell_type": "code",
   "execution_count": 63,
   "metadata": {
    "colab": {
     "base_uri": "https://localhost:8080/"
    },
    "executionInfo": {
     "elapsed": 560,
     "status": "ok",
     "timestamp": 1613715569320,
     "user": {
      "displayName": "이성렬",
      "photoUrl": "",
      "userId": "08044204928861003367"
     },
     "user_tz": -540
    },
    "id": "d8XyphQL8WAZ",
    "outputId": "488849fc-3379-4494-d71f-7c1ffc69ead4"
   },
   "outputs": [
    {
     "data": {
      "text/plain": [
       "[2, 4, 6, 8, 10, 2, 4, 6, 8, 10, 2, 4, 6, 8, 10]"
      ]
     },
     "execution_count": 63,
     "metadata": {
      "tags": []
     },
     "output_type": "execute_result"
    }
   ],
   "source": [
    "L9 * 3"
   ]
  },
  {
   "cell_type": "markdown",
   "metadata": {
    "id": "Atn4JU778ZFL"
   },
   "source": [
    "# III. Tuple"
   ]
  },
  {
   "cell_type": "markdown",
   "metadata": {
    "id": "BX7Kbxq18btD"
   },
   "source": [
    "> ## 1) () 기호로 선언"
   ]
  },
  {
   "cell_type": "markdown",
   "metadata": {
    "id": "U0iS0uBF8eXk"
   },
   "source": [
    "- 값 변경 불가능"
   ]
  },
  {
   "cell_type": "code",
   "execution_count": 64,
   "metadata": {
    "colab": {
     "base_uri": "https://localhost:8080/"
    },
    "executionInfo": {
     "elapsed": 598,
     "status": "ok",
     "timestamp": 1613715623069,
     "user": {
      "displayName": "이성렬",
      "photoUrl": "",
      "userId": "08044204928861003367"
     },
     "user_tz": -540
    },
    "id": "t1eGftGP8XhE",
    "outputId": "c819e14b-f1c2-48c0-c350-0264e5941aec"
   },
   "outputs": [
    {
     "name": "stdout",
     "output_type": "stream",
     "text": [
      "(1, 2)\n"
     ]
    }
   ],
   "source": [
    "T1 = (1, 2)\n",
    "print(T1)"
   ]
  },
  {
   "cell_type": "markdown",
   "metadata": {
    "id": "-l34tCmT8ovQ"
   },
   "source": [
    "- Error-1"
   ]
  },
  {
   "cell_type": "code",
   "execution_count": 65,
   "metadata": {
    "colab": {
     "base_uri": "https://localhost:8080/",
     "height": 174
    },
    "executionInfo": {
     "elapsed": 578,
     "status": "error",
     "timestamp": 1613715655129,
     "user": {
      "displayName": "이성렬",
      "photoUrl": "",
      "userId": "08044204928861003367"
     },
     "user_tz": -540
    },
    "id": "aNQ6cxLO8qbw",
    "outputId": "3dad072e-0fcb-4c91-8960-980fbdf9f66a"
   },
   "outputs": [
    {
     "ename": "TypeError",
     "evalue": "ignored",
     "output_type": "error",
     "traceback": [
      "\u001b[0;31m---------------------------------------------------------------------------\u001b[0m",
      "\u001b[0;31mTypeError\u001b[0m                                 Traceback (most recent call last)",
      "\u001b[0;32m<ipython-input-65-5dbf3ae207d5>\u001b[0m in \u001b[0;36m<module>\u001b[0;34m()\u001b[0m\n\u001b[0;32m----> 1\u001b[0;31m \u001b[0;32mdel\u001b[0m \u001b[0mT1\u001b[0m\u001b[0;34m[\u001b[0m\u001b[0;36m0\u001b[0m\u001b[0;34m]\u001b[0m\u001b[0;34m\u001b[0m\u001b[0;34m\u001b[0m\u001b[0m\n\u001b[0m",
      "\u001b[0;31mTypeError\u001b[0m: 'tuple' object doesn't support item deletion"
     ]
    }
   ],
   "source": [
    "del T1[0]"
   ]
  },
  {
   "cell_type": "markdown",
   "metadata": {
    "id": "19HdmpY88toQ"
   },
   "source": [
    "- Error-2"
   ]
  },
  {
   "cell_type": "code",
   "execution_count": 66,
   "metadata": {
    "colab": {
     "base_uri": "https://localhost:8080/",
     "height": 174
    },
    "executionInfo": {
     "elapsed": 610,
     "status": "error",
     "timestamp": 1613715679916,
     "user": {
      "displayName": "이성렬",
      "photoUrl": "",
      "userId": "08044204928861003367"
     },
     "user_tz": -540
    },
    "id": "dekX-GL18sdf",
    "outputId": "a091f04a-8615-4048-adfd-e00afa011892"
   },
   "outputs": [
    {
     "ename": "TypeError",
     "evalue": "ignored",
     "output_type": "error",
     "traceback": [
      "\u001b[0;31m---------------------------------------------------------------------------\u001b[0m",
      "\u001b[0;31mTypeError\u001b[0m                                 Traceback (most recent call last)",
      "\u001b[0;32m<ipython-input-66-81186ea111e4>\u001b[0m in \u001b[0;36m<module>\u001b[0;34m()\u001b[0m\n\u001b[0;32m----> 1\u001b[0;31m \u001b[0mT1\u001b[0m\u001b[0;34m[\u001b[0m\u001b[0;36m0\u001b[0m\u001b[0;34m]\u001b[0m \u001b[0;34m=\u001b[0m \u001b[0;34m'a'\u001b[0m\u001b[0;34m\u001b[0m\u001b[0;34m\u001b[0m\u001b[0m\n\u001b[0m",
      "\u001b[0;31mTypeError\u001b[0m: 'tuple' object does not support item assignment"
     ]
    }
   ],
   "source": [
    "T1[0] = 'a'"
   ]
  },
  {
   "cell_type": "markdown",
   "metadata": {
    "id": "XHoSlo-e9jko"
   },
   "source": [
    "- () 기호 생략 가능"
   ]
  },
  {
   "cell_type": "code",
   "execution_count": 67,
   "metadata": {
    "colab": {
     "base_uri": "https://localhost:8080/"
    },
    "executionInfo": {
     "elapsed": 717,
     "status": "ok",
     "timestamp": 1613715904990,
     "user": {
      "displayName": "이성렬",
      "photoUrl": "",
      "userId": "08044204928861003367"
     },
     "user_tz": -540
    },
    "id": "QxR7LAtb9mWL",
    "outputId": "e94ad4df-e860-425f-d7e3-ba214ddd0700"
   },
   "outputs": [
    {
     "name": "stdout",
     "output_type": "stream",
     "text": [
      "('a', 'b')\n"
     ]
    }
   ],
   "source": [
    "T2 = 'a', 'b'\n",
    "print(T2)"
   ]
  },
  {
   "cell_type": "markdown",
   "metadata": {
    "id": "dwpNB9ph9qxk"
   },
   "source": [
    "> ## 2) Tuple in Tuple"
   ]
  },
  {
   "cell_type": "code",
   "execution_count": 68,
   "metadata": {
    "colab": {
     "base_uri": "https://localhost:8080/"
    },
    "executionInfo": {
     "elapsed": 636,
     "status": "ok",
     "timestamp": 1613715937341,
     "user": {
      "displayName": "이성렬",
      "photoUrl": "",
      "userId": "08044204928861003367"
     },
     "user_tz": -540
    },
    "id": "bgiCHFeH9tvx",
    "outputId": "13e2fed4-7af4-437e-c0c1-b5f662fa80a1"
   },
   "outputs": [
    {
     "name": "stdout",
     "output_type": "stream",
     "text": [
      "(1, 2, (3, 4))\n"
     ]
    }
   ],
   "source": [
    "T3 = (1, 2, (3, 4))\n",
    "print(T3)"
   ]
  },
  {
   "cell_type": "markdown",
   "metadata": {
    "id": "jEBrYCei9yHG"
   },
   "source": [
    "- Error"
   ]
  },
  {
   "cell_type": "code",
   "execution_count": 69,
   "metadata": {
    "colab": {
     "base_uri": "https://localhost:8080/",
     "height": 174
    },
    "executionInfo": {
     "elapsed": 599,
     "status": "error",
     "timestamp": 1613715959565,
     "user": {
      "displayName": "이성렬",
      "photoUrl": "",
      "userId": "08044204928861003367"
     },
     "user_tz": -540
    },
    "id": "t7GXmpY59xWM",
    "outputId": "fc34a952-2caa-41a3-b9e0-a474afa8944a"
   },
   "outputs": [
    {
     "ename": "TypeError",
     "evalue": "ignored",
     "output_type": "error",
     "traceback": [
      "\u001b[0;31m---------------------------------------------------------------------------\u001b[0m",
      "\u001b[0;31mTypeError\u001b[0m                                 Traceback (most recent call last)",
      "\u001b[0;32m<ipython-input-69-05b84266fba5>\u001b[0m in \u001b[0;36m<module>\u001b[0;34m()\u001b[0m\n\u001b[0;32m----> 1\u001b[0;31m \u001b[0mT3\u001b[0m\u001b[0;34m[\u001b[0m\u001b[0;36m2\u001b[0m\u001b[0;34m]\u001b[0m\u001b[0;34m[\u001b[0m\u001b[0;36m0\u001b[0m\u001b[0;34m]\u001b[0m \u001b[0;34m=\u001b[0m \u001b[0;36m6\u001b[0m\u001b[0;34m\u001b[0m\u001b[0;34m\u001b[0m\u001b[0m\n\u001b[0m",
      "\u001b[0;31mTypeError\u001b[0m: 'tuple' object does not support item assignment"
     ]
    }
   ],
   "source": [
    "T3[2][0] = 6"
   ]
  },
  {
   "cell_type": "markdown",
   "metadata": {
    "id": "ONWdhvWv-gFx"
   },
   "source": [
    "> ## 3) List in Tuple"
   ]
  },
  {
   "cell_type": "code",
   "execution_count": 70,
   "metadata": {
    "colab": {
     "base_uri": "https://localhost:8080/"
    },
    "executionInfo": {
     "elapsed": 560,
     "status": "ok",
     "timestamp": 1613716179957,
     "user": {
      "displayName": "이성렬",
      "photoUrl": "",
      "userId": "08044204928861003367"
     },
     "user_tz": -540
    },
    "id": "d41oYN9o-kxw",
    "outputId": "f694e65c-968c-4e32-cdd7-55d73dcf3b09"
   },
   "outputs": [
    {
     "name": "stdout",
     "output_type": "stream",
     "text": [
      "(1, 2, [3, 4])\n"
     ]
    }
   ],
   "source": [
    "T4 = (1, 2, [3, 4])\n",
    "print(T4)"
   ]
  },
  {
   "cell_type": "markdown",
   "metadata": {
    "id": "yUkwzPJI-tz2"
   },
   "source": [
    "- Change Values"
   ]
  },
  {
   "cell_type": "code",
   "execution_count": 71,
   "metadata": {
    "colab": {
     "base_uri": "https://localhost:8080/"
    },
    "executionInfo": {
     "elapsed": 595,
     "status": "ok",
     "timestamp": 1613716207896,
     "user": {
      "displayName": "이성렬",
      "photoUrl": "",
      "userId": "08044204928861003367"
     },
     "user_tz": -540
    },
    "id": "3DDWkHUJ-v86",
    "outputId": "eac3f46b-333e-4c74-8e1e-cc5cd382d3c9"
   },
   "outputs": [
    {
     "name": "stdout",
     "output_type": "stream",
     "text": [
      "(1, 2, [3, 6])\n"
     ]
    }
   ],
   "source": [
    "T4[2][1] = 6\n",
    "print(T4)"
   ]
  },
  {
   "cell_type": "markdown",
   "metadata": {
    "id": "WnqhXrFu-2hL"
   },
   "source": [
    "# IV. Dictionary"
   ]
  },
  {
   "cell_type": "markdown",
   "metadata": {
    "id": "x_Q6m4jP-6Pl"
   },
   "source": [
    "> ## 1) {Key:Value} 구조 선언"
   ]
  },
  {
   "cell_type": "code",
   "execution_count": 72,
   "metadata": {
    "colab": {
     "base_uri": "https://localhost:8080/"
    },
    "executionInfo": {
     "elapsed": 584,
     "status": "ok",
     "timestamp": 1613716359982,
     "user": {
      "displayName": "이성렬",
      "photoUrl": "",
      "userId": "08044204928861003367"
     },
     "user_tz": -540
    },
    "id": "ZqkmRo2H_RyX",
    "outputId": "2101a193-18c1-4211-badc-8356764f6f97"
   },
   "outputs": [
    {
     "name": "stdout",
     "output_type": "stream",
     "text": [
      "{'Name': 'LEE', 'Age': 24}\n"
     ]
    }
   ],
   "source": [
    "D1 = {'Name':'LEE', 'Age':24}\n",
    "print(D1)"
   ]
  },
  {
   "cell_type": "code",
   "execution_count": 73,
   "metadata": {
    "colab": {
     "base_uri": "https://localhost:8080/"
    },
    "executionInfo": {
     "elapsed": 526,
     "status": "ok",
     "timestamp": 1613716530510,
     "user": {
      "displayName": "이성렬",
      "photoUrl": "",
      "userId": "08044204928861003367"
     },
     "user_tz": -540
    },
    "id": "D3xF50am_a2A",
    "outputId": "6908bbaa-14b6-4787-b87f-703127e770b7"
   },
   "outputs": [
    {
     "name": "stdout",
     "output_type": "stream",
     "text": [
      "<class 'dict'>\n",
      "<class 'str'>\n",
      "<class 'int'>\n"
     ]
    }
   ],
   "source": [
    "print(type(D1))\n",
    "print(type(D1['Name']))\n",
    "print(type(D1['Age']))"
   ]
  },
  {
   "cell_type": "code",
   "execution_count": 74,
   "metadata": {
    "colab": {
     "base_uri": "https://localhost:8080/",
     "height": 36
    },
    "executionInfo": {
     "elapsed": 635,
     "status": "ok",
     "timestamp": 1613716544214,
     "user": {
      "displayName": "이성렬",
      "photoUrl": "",
      "userId": "08044204928861003367"
     },
     "user_tz": -540
    },
    "id": "R2lXjvuTACL7",
    "outputId": "a1707659-381b-4596-fc40-537a8c7fc2ff"
   },
   "outputs": [
    {
     "data": {
      "application/vnd.google.colaboratory.intrinsic+json": {
       "type": "string"
      },
      "text/plain": [
       "'LEE'"
      ]
     },
     "execution_count": 74,
     "metadata": {
      "tags": []
     },
     "output_type": "execute_result"
    }
   ],
   "source": [
    "D1['Name']"
   ]
  },
  {
   "cell_type": "markdown",
   "metadata": {
    "id": "k0C7b9eEAHPF"
   },
   "source": [
    "> ## 2) Key:Value 추가"
   ]
  },
  {
   "cell_type": "code",
   "execution_count": 75,
   "metadata": {
    "colab": {
     "base_uri": "https://localhost:8080/"
    },
    "executionInfo": {
     "elapsed": 723,
     "status": "ok",
     "timestamp": 1613716664118,
     "user": {
      "displayName": "이성렬",
      "photoUrl": "",
      "userId": "08044204928861003367"
     },
     "user_tz": -540
    },
    "id": "oJ4yunJHALD2",
    "outputId": "f0c9369a-ec34-4b64-b0d5-305d5b0f5be2"
   },
   "outputs": [
    {
     "name": "stdout",
     "output_type": "stream",
     "text": [
      "{'Name': 'LEE', 'Age': 24, 'Height': 183}\n"
     ]
    }
   ],
   "source": [
    "D1['Height'] = 183\n",
    "print(D1)"
   ]
  },
  {
   "cell_type": "markdown",
   "metadata": {
    "id": "GGreKPENAjx5"
   },
   "source": [
    "> ## 3) Key:Value 삭제"
   ]
  },
  {
   "cell_type": "code",
   "execution_count": 76,
   "metadata": {
    "colab": {
     "base_uri": "https://localhost:8080/"
    },
    "executionInfo": {
     "elapsed": 579,
     "status": "ok",
     "timestamp": 1613716699809,
     "user": {
      "displayName": "이성렬",
      "photoUrl": "",
      "userId": "08044204928861003367"
     },
     "user_tz": -540
    },
    "id": "qezvuMY9Ang0",
    "outputId": "b9c1586d-8d16-4443-fd18-ff9b303d5492"
   },
   "outputs": [
    {
     "name": "stdout",
     "output_type": "stream",
     "text": [
      "{'Name': 'LEE', 'Height': 183}\n"
     ]
    }
   ],
   "source": [
    "del D1['Age']\n",
    "print(D1)"
   ]
  },
  {
   "cell_type": "markdown",
   "metadata": {
    "id": "M0Rmr3N5Asnz"
   },
   "source": [
    "> ## 4) Function()"
   ]
  },
  {
   "cell_type": "markdown",
   "metadata": {
    "id": "nYpitx22AwBm"
   },
   "source": [
    "- Key 확인"
   ]
  },
  {
   "cell_type": "code",
   "execution_count": 77,
   "metadata": {
    "colab": {
     "base_uri": "https://localhost:8080/"
    },
    "executionInfo": {
     "elapsed": 792,
     "status": "ok",
     "timestamp": 1613716734221,
     "user": {
      "displayName": "이성렬",
      "photoUrl": "",
      "userId": "08044204928861003367"
     },
     "user_tz": -540
    },
    "id": "WRj1oJY3Ax2l",
    "outputId": "75a64f66-d7be-4d00-cb9a-69bd658fd4b1"
   },
   "outputs": [
    {
     "data": {
      "text/plain": [
       "dict_keys(['Name', 'Height'])"
      ]
     },
     "execution_count": 77,
     "metadata": {
      "tags": []
     },
     "output_type": "execute_result"
    }
   ],
   "source": [
    "D1.keys()"
   ]
  },
  {
   "cell_type": "markdown",
   "metadata": {
    "id": "d7Cq5z_xA04U"
   },
   "source": [
    "- Value 확인"
   ]
  },
  {
   "cell_type": "code",
   "execution_count": 78,
   "metadata": {
    "colab": {
     "base_uri": "https://localhost:8080/"
    },
    "executionInfo": {
     "elapsed": 574,
     "status": "ok",
     "timestamp": 1613716758629,
     "user": {
      "displayName": "이성렬",
      "photoUrl": "",
      "userId": "08044204928861003367"
     },
     "user_tz": -540
    },
    "id": "kc0a-E1aAz2y",
    "outputId": "076739ed-b3e6-43fb-a749-35b80c1e1c24"
   },
   "outputs": [
    {
     "data": {
      "text/plain": [
       "dict_values(['LEE', 183])"
      ]
     },
     "execution_count": 78,
     "metadata": {
      "tags": []
     },
     "output_type": "execute_result"
    }
   ],
   "source": [
    "D1.values()"
   ]
  },
  {
   "cell_type": "markdown",
   "metadata": {
    "id": "FsyGEPBwA8nw"
   },
   "source": [
    "- Key:Value 삭제"
   ]
  },
  {
   "cell_type": "code",
   "execution_count": 79,
   "metadata": {
    "colab": {
     "base_uri": "https://localhost:8080/"
    },
    "executionInfo": {
     "elapsed": 584,
     "status": "ok",
     "timestamp": 1613716794787,
     "user": {
      "displayName": "이성렬",
      "photoUrl": "",
      "userId": "08044204928861003367"
     },
     "user_tz": -540
    },
    "id": "xjXNaM9eA_Tb",
    "outputId": "9e66e7a2-8169-4959-89a8-a2afd8de669a"
   },
   "outputs": [
    {
     "name": "stdout",
     "output_type": "stream",
     "text": [
      "{'Name': 'LEE', 'Height': 183}\n",
      "{}\n"
     ]
    }
   ],
   "source": [
    "print(D1)\n",
    "D1.clear()\n",
    "print(D1)"
   ]
  },
  {
   "cell_type": "markdown",
   "metadata": {
    "id": "zgOIRU8mCawY"
   },
   "source": [
    "> ## 5) Dictionary with List"
   ]
  },
  {
   "cell_type": "code",
   "execution_count": 80,
   "metadata": {
    "executionInfo": {
     "elapsed": 546,
     "status": "ok",
     "timestamp": 1613717204678,
     "user": {
      "displayName": "이성렬",
      "photoUrl": "",
      "userId": "08044204928861003367"
     },
     "user_tz": -540
    },
    "id": "QUA3tS_JCeaC"
   },
   "outputs": [],
   "source": [
    "L1 = ['Red', 'Green', 'Blue']\n",
    "L2 = [255, 127, 63]"
   ]
  },
  {
   "cell_type": "code",
   "execution_count": 81,
   "metadata": {
    "colab": {
     "base_uri": "https://localhost:8080/"
    },
    "executionInfo": {
     "elapsed": 613,
     "status": "ok",
     "timestamp": 1613717253478,
     "user": {
      "displayName": "이성렬",
      "photoUrl": "",
      "userId": "08044204928861003367"
     },
     "user_tz": -540
    },
    "id": "R2lseMueCmxp",
    "outputId": "ca1de552-e160-4f6a-dff1-7cd02f82eaf6"
   },
   "outputs": [
    {
     "name": "stdout",
     "output_type": "stream",
     "text": [
      "{'Red': 255, 'Green': 127, 'Blue': 63}\n"
     ]
    }
   ],
   "source": [
    "D2 = {x:y for x,y in zip(L1,L2)}\n",
    "print(D2)"
   ]
  },
  {
   "cell_type": "markdown",
   "metadata": {
    "id": "8JWlRGwKC81-"
   },
   "source": [
    "# V. Casting"
   ]
  },
  {
   "cell_type": "markdown",
   "metadata": {
    "id": "Y4zhgdtXC-4g"
   },
   "source": [
    "> ## 1) Data Type"
   ]
  },
  {
   "cell_type": "markdown",
   "metadata": {
    "id": "9X4n9jprDCDL"
   },
   "source": [
    "- int to float"
   ]
  },
  {
   "cell_type": "code",
   "execution_count": 82,
   "metadata": {
    "colab": {
     "base_uri": "https://localhost:8080/"
    },
    "executionInfo": {
     "elapsed": 583,
     "status": "ok",
     "timestamp": 1613717528604,
     "user": {
      "displayName": "이성렬",
      "photoUrl": "",
      "userId": "08044204928861003367"
     },
     "user_tz": -540
    },
    "id": "Y-z4qprXDD91",
    "outputId": "d3d1befc-fc4b-4987-8b51-7b958eb6dbcf"
   },
   "outputs": [
    {
     "name": "stdout",
     "output_type": "stream",
     "text": [
      "<class 'int'>\n",
      "<class 'float'>\n"
     ]
    }
   ],
   "source": [
    "print(type(9))\n",
    "print(type(float(9)))"
   ]
  },
  {
   "cell_type": "markdown",
   "metadata": {
    "id": "XLpbvVFkD9Is"
   },
   "source": [
    "- str to float"
   ]
  },
  {
   "cell_type": "code",
   "execution_count": 84,
   "metadata": {
    "colab": {
     "base_uri": "https://localhost:8080/"
    },
    "executionInfo": {
     "elapsed": 607,
     "status": "ok",
     "timestamp": 1613717603127,
     "user": {
      "displayName": "이성렬",
      "photoUrl": "",
      "userId": "08044204928861003367"
     },
     "user_tz": -540
    },
    "id": "hNdvt3RCD_Wr",
    "outputId": "f8141cb7-458c-414c-8f4d-58d76eee1a03"
   },
   "outputs": [
    {
     "name": "stdout",
     "output_type": "stream",
     "text": [
      "<class 'str'>\n",
      "<class 'float'>\n"
     ]
    }
   ],
   "source": [
    "print(type('9.4'))\n",
    "print(type(float('9.4')))"
   ]
  },
  {
   "cell_type": "markdown",
   "metadata": {
    "id": "r6elOAI6EhOV"
   },
   "source": [
    "- float to int"
   ]
  },
  {
   "cell_type": "code",
   "execution_count": 85,
   "metadata": {
    "colab": {
     "base_uri": "https://localhost:8080/"
    },
    "executionInfo": {
     "elapsed": 606,
     "status": "ok",
     "timestamp": 1613717759006,
     "user": {
      "displayName": "이성렬",
      "photoUrl": "",
      "userId": "08044204928861003367"
     },
     "user_tz": -540
    },
    "id": "UgqmSjIKEjJY",
    "outputId": "d767ac12-6f44-413d-e4c1-e9e42036d561"
   },
   "outputs": [
    {
     "name": "stdout",
     "output_type": "stream",
     "text": [
      "<class 'float'>\n",
      "9.0\n",
      "<class 'int'>\n",
      "9\n"
     ]
    }
   ],
   "source": [
    "print(type(9.0))\n",
    "print(9.0)\n",
    "\n",
    "print(type(int(9.0)))\n",
    "print(int(9.0))"
   ]
  },
  {
   "cell_type": "markdown",
   "metadata": {
    "id": "E-QOro9yEkBR"
   },
   "source": [
    "- str to int"
   ]
  },
  {
   "cell_type": "code",
   "execution_count": 86,
   "metadata": {
    "colab": {
     "base_uri": "https://localhost:8080/"
    },
    "executionInfo": {
     "elapsed": 608,
     "status": "ok",
     "timestamp": 1613717810084,
     "user": {
      "displayName": "이성렬",
      "photoUrl": "",
      "userId": "08044204928861003367"
     },
     "user_tz": -540
    },
    "id": "ebUh9jqEEjPJ",
    "outputId": "b361c32c-de40-4a38-ce35-48635f9fd3f8"
   },
   "outputs": [
    {
     "name": "stdout",
     "output_type": "stream",
     "text": [
      "<class 'str'>\n",
      "9\n",
      "<class 'int'>\n",
      "9.0\n"
     ]
    }
   ],
   "source": [
    "print(type('9'))\n",
    "print(9)\n",
    "\n",
    "print(type(int('9')))\n",
    "print(float(9))"
   ]
  },
  {
   "cell_type": "markdown",
   "metadata": {
    "id": "ZbkVdcHcE-81"
   },
   "source": [
    "- float to int"
   ]
  },
  {
   "cell_type": "markdown",
   "metadata": {
    "id": "cQ_tjF4FFBqY"
   },
   "source": [
    "- Warning!!!"
   ]
  },
  {
   "cell_type": "code",
   "execution_count": 87,
   "metadata": {
    "colab": {
     "base_uri": "https://localhost:8080/"
    },
    "executionInfo": {
     "elapsed": 659,
     "status": "ok",
     "timestamp": 1613717875530,
     "user": {
      "displayName": "이성렬",
      "photoUrl": "",
      "userId": "08044204928861003367"
     },
     "user_tz": -540
    },
    "id": "gv95IzxtFDs0",
    "outputId": "fdbc5b03-3893-40eb-a668-0b41de605543"
   },
   "outputs": [
    {
     "name": "stdout",
     "output_type": "stream",
     "text": [
      "<class 'float'>\n",
      "3.14\n",
      "<class 'int'>\n",
      "3\n"
     ]
    }
   ],
   "source": [
    "print(type(3.14))\n",
    "print(3.14)\n",
    "\n",
    "print(type(int(3.14)))\n",
    "print(int(3.14))"
   ]
  },
  {
   "cell_type": "markdown",
   "metadata": {
    "id": "m4bzeYvTFNMg"
   },
   "source": [
    "-  int to str"
   ]
  },
  {
   "cell_type": "code",
   "execution_count": 88,
   "metadata": {
    "colab": {
     "base_uri": "https://localhost:8080/"
    },
    "executionInfo": {
     "elapsed": 598,
     "status": "ok",
     "timestamp": 1613717953976,
     "user": {
      "displayName": "이성렬",
      "photoUrl": "",
      "userId": "08044204928861003367"
     },
     "user_tz": -540
    },
    "id": "SItpWFrOFZeK",
    "outputId": "4063cbf6-6747-4365-aa3a-83268e3120d2"
   },
   "outputs": [
    {
     "name": "stdout",
     "output_type": "stream",
     "text": [
      "<class 'int'>\n",
      "<class 'str'>\n"
     ]
    }
   ],
   "source": [
    "print(type(9))\n",
    "print(type(str(9)))"
   ]
  },
  {
   "cell_type": "markdown",
   "metadata": {
    "id": "zqlnH66EFfW_"
   },
   "source": [
    "- float to str"
   ]
  },
  {
   "cell_type": "code",
   "execution_count": 89,
   "metadata": {
    "colab": {
     "base_uri": "https://localhost:8080/"
    },
    "executionInfo": {
     "elapsed": 540,
     "status": "ok",
     "timestamp": 1613717982663,
     "user": {
      "displayName": "이성렬",
      "photoUrl": "",
      "userId": "08044204928861003367"
     },
     "user_tz": -540
    },
    "id": "7_ChK9fWFg4p",
    "outputId": "2a40f87b-4793-4bdd-ecf0-fe9e226bceae"
   },
   "outputs": [
    {
     "name": "stdout",
     "output_type": "stream",
     "text": [
      "<class 'float'>\n",
      "<class 'str'>\n"
     ]
    }
   ],
   "source": [
    "print(type(3.14))\n",
    "print(type(str(3.14)))"
   ]
  },
  {
   "cell_type": "markdown",
   "metadata": {
    "id": "6YxulsyYFlYY"
   },
   "source": [
    "> ## 2) Data Structure"
   ]
  },
  {
   "cell_type": "markdown",
   "metadata": {
    "id": "y1X5oUwcFpJj"
   },
   "source": [
    "- List to Tuple"
   ]
  },
  {
   "cell_type": "code",
   "execution_count": 90,
   "metadata": {
    "colab": {
     "base_uri": "https://localhost:8080/"
    },
    "executionInfo": {
     "elapsed": 606,
     "status": "ok",
     "timestamp": 1613718024124,
     "user": {
      "displayName": "이성렬",
      "photoUrl": "",
      "userId": "08044204928861003367"
     },
     "user_tz": -540
    },
    "id": "aZxHjqSBFktj",
    "outputId": "2b464d6c-7aaa-4907-a317-1f459da44b9a"
   },
   "outputs": [
    {
     "data": {
      "text/plain": [
       "(1, 3, 5, 7, 9)"
      ]
     },
     "execution_count": 90,
     "metadata": {
      "tags": []
     },
     "output_type": "execute_result"
    }
   ],
   "source": [
    "tuple([1, 3, 5, 7, 9])"
   ]
  },
  {
   "cell_type": "markdown",
   "metadata": {
    "id": "mRHNBJkGFx3Y"
   },
   "source": [
    "- Tuple to List"
   ]
  },
  {
   "cell_type": "code",
   "execution_count": 91,
   "metadata": {
    "colab": {
     "base_uri": "https://localhost:8080/"
    },
    "executionInfo": {
     "elapsed": 580,
     "status": "ok",
     "timestamp": 1613718067247,
     "user": {
      "displayName": "이성렬",
      "photoUrl": "",
      "userId": "08044204928861003367"
     },
     "user_tz": -540
    },
    "id": "FXmVG5GiFzoy",
    "outputId": "d9bfe9a5-f820-4bb6-cf8b-3f9b59260fac"
   },
   "outputs": [
    {
     "data": {
      "text/plain": [
       "[1, 3, 5, 7, 9]"
      ]
     },
     "execution_count": 91,
     "metadata": {
      "tags": []
     },
     "output_type": "execute_result"
    }
   ],
   "source": [
    "list((1, 3, 5, 7, 9))"
   ]
  },
  {
   "cell_type": "markdown",
   "metadata": {
    "id": "A_aJ3MmmF61J"
   },
   "source": [
    "- List to Dictionary"
   ]
  },
  {
   "cell_type": "code",
   "execution_count": 92,
   "metadata": {
    "colab": {
     "base_uri": "https://localhost:8080/"
    },
    "executionInfo": {
     "elapsed": 616,
     "status": "ok",
     "timestamp": 1613718123581,
     "user": {
      "displayName": "이성렬",
      "photoUrl": "",
      "userId": "08044204928861003367"
     },
     "user_tz": -540
    },
    "id": "Vim2DRsKF9mN",
    "outputId": "7b01e0c7-b76d-427b-a952-aa26a2492435"
   },
   "outputs": [
    {
     "data": {
      "text/plain": [
       "{'A': 123, 'B': 234, 'C': 567}"
      ]
     },
     "execution_count": 92,
     "metadata": {
      "tags": []
     },
     "output_type": "execute_result"
    }
   ],
   "source": [
    "dict([['A', 123], ['B', 234], ['C', 567]])"
   ]
  },
  {
   "cell_type": "markdown",
   "metadata": {
    "id": "XQN7kdHPGLKv"
   },
   "source": [
    "## #\n",
    "## #\n",
    "## #\n",
    "## The End\n",
    "## #\n",
    "## # \n",
    "## #"
   ]
  }
 ],
 "metadata": {
  "colab": {
   "authorship_tag": "ABX9TyOrsEp7xEHhLp+2drdrRKNY",
   "name": "Data_Structure.ipynb",
   "provenance": []
  },
  "kernelspec": {
   "display_name": "Python 3",
   "language": "python",
   "name": "python3"
  },
  "language_info": {
   "codemirror_mode": {
    "name": "ipython",
    "version": 3
   },
   "file_extension": ".py",
   "mimetype": "text/x-python",
   "name": "python",
   "nbconvert_exporter": "python",
   "pygments_lexer": "ipython3",
   "version": "3.8.5"
  }
 },
 "nbformat": 4,
 "nbformat_minor": 1
}

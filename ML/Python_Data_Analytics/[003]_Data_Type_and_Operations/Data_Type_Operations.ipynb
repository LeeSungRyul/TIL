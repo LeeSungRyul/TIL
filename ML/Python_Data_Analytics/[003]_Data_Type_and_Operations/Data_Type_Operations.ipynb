{
 "cells": [
  {
   "cell_type": "markdown",
   "metadata": {
    "id": "RRDHfatMtFfi"
   },
   "source": [
    "# Python Data Type & Operation"
   ]
  },
  {
   "cell_type": "code",
   "execution_count": null,
   "metadata": {
    "id": "yj2I7tMKtQIB"
   },
   "outputs": [],
   "source": [
    "import warnings\n",
    "warnings.filterwarnings('ignore')"
   ]
  },
  {
   "cell_type": "markdown",
   "metadata": {
    "id": "JwiomyY-tYZK"
   },
   "source": [
    "# I. Python Funcntion()"
   ]
  },
  {
   "cell_type": "code",
   "execution_count": null,
   "metadata": {
    "colab": {
     "base_uri": "https://localhost:8080/"
    },
    "executionInfo": {
     "elapsed": 674,
     "status": "ok",
     "timestamp": 1613711689823,
     "user": {
      "displayName": "이성렬",
      "photoUrl": "",
      "userId": "08044204928861003367"
     },
     "user_tz": -540
    },
    "id": "26UUr3tptb03",
    "outputId": "f516d05b-259a-445d-d98c-2b4b4be6021b"
   },
   "outputs": [
    {
     "name": "stdout",
     "output_type": "stream",
     "text": [
      "Hello World\n"
     ]
    }
   ],
   "source": [
    "print('Hello World')"
   ]
  },
  {
   "cell_type": "code",
   "execution_count": null,
   "metadata": {
    "colab": {
     "base_uri": "https://localhost:8080/"
    },
    "executionInfo": {
     "elapsed": 599,
     "status": "ok",
     "timestamp": 1613711713575,
     "user": {
      "displayName": "이성렬",
      "photoUrl": "",
      "userId": "08044204928861003367"
     },
     "user_tz": -540
    },
    "id": "tM7ScxfDtl6u",
    "outputId": "2dfd4f68-9222-498c-877d-6115283c19e5"
   },
   "outputs": [
    {
     "name": "stdout",
     "output_type": "stream",
     "text": [
      "Hello World\t"
     ]
    }
   ],
   "source": [
    "print('Hello World', end = '\\t')"
   ]
  },
  {
   "cell_type": "code",
   "execution_count": null,
   "metadata": {
    "colab": {
     "base_uri": "https://localhost:8080/"
    },
    "executionInfo": {
     "elapsed": 631,
     "status": "ok",
     "timestamp": 1613711763780,
     "user": {
      "displayName": "이성렬",
      "photoUrl": "",
      "userId": "08044204928861003367"
     },
     "user_tz": -540
    },
    "id": "zp18WfhEtxDs",
    "outputId": "9b34ff60-4de8-491c-fa1e-e67c5f4adb44"
   },
   "outputs": [
    {
     "name": "stdout",
     "output_type": "stream",
     "text": [
      "Hello-World\n"
     ]
    }
   ],
   "source": [
    "print('Hello', 'World', sep = '-')"
   ]
  },
  {
   "cell_type": "code",
   "execution_count": null,
   "metadata": {
    "colab": {
     "base_uri": "https://localhost:8080/"
    },
    "executionInfo": {
     "elapsed": 582,
     "status": "ok",
     "timestamp": 1613711797296,
     "user": {
      "displayName": "이성렬",
      "photoUrl": "",
      "userId": "08044204928861003367"
     },
     "user_tz": -540
    },
    "id": "65R2fxyCt3hl",
    "outputId": "22749f4e-ac83-41e5-f649-215517a17b66"
   },
   "outputs": [
    {
     "name": "stdout",
     "output_type": "stream",
     "text": [
      "Data Analytics\n"
     ]
    }
   ],
   "source": [
    "koo = 'Data Analytics'\n",
    "print(koo)"
   ]
  },
  {
   "cell_type": "code",
   "execution_count": null,
   "metadata": {
    "colab": {
     "base_uri": "https://localhost:8080/"
    },
    "executionInfo": {
     "elapsed": 636,
     "status": "ok",
     "timestamp": 1613711805511,
     "user": {
      "displayName": "이성렬",
      "photoUrl": "",
      "userId": "08044204928861003367"
     },
     "user_tz": -540
    },
    "id": "uJ21nrpUt_Wc",
    "outputId": "ebe9a94e-4471-497b-a38e-b67bca527f5f"
   },
   "outputs": [
    {
     "data": {
      "text/plain": [
       "str"
      ]
     },
     "execution_count": 5,
     "metadata": {
      "tags": []
     },
     "output_type": "execute_result"
    }
   ],
   "source": [
    "type(koo)"
   ]
  },
  {
   "cell_type": "code",
   "execution_count": null,
   "metadata": {
    "colab": {
     "base_uri": "https://localhost:8080/"
    },
    "executionInfo": {
     "elapsed": 574,
     "status": "ok",
     "timestamp": 1613711816465,
     "user": {
      "displayName": "이성렬",
      "photoUrl": "",
      "userId": "08044204928861003367"
     },
     "user_tz": -540
    },
    "id": "LnMUJnOwuByE",
    "outputId": "7f244bc1-3b56-4aad-ee61-5c6cc3464189"
   },
   "outputs": [
    {
     "name": "stdout",
     "output_type": "stream",
     "text": [
      "Help on built-in function print in module builtins:\n",
      "\n",
      "print(...)\n",
      "    print(value, ..., sep=' ', end='\\n', file=sys.stdout, flush=False)\n",
      "    \n",
      "    Prints the values to a stream, or to sys.stdout by default.\n",
      "    Optional keyword arguments:\n",
      "    file:  a file-like object (stream); defaults to the current sys.stdout.\n",
      "    sep:   string inserted between values, default a space.\n",
      "    end:   string appended after the last value, default a newline.\n",
      "    flush: whether to forcibly flush the stream.\n",
      "\n"
     ]
    }
   ],
   "source": [
    "help(print)"
   ]
  },
  {
   "cell_type": "markdown",
   "metadata": {
    "id": "JePw9O82uFGl"
   },
   "source": [
    "# II. Python Data Type"
   ]
  },
  {
   "cell_type": "markdown",
   "metadata": {
    "id": "sQXSwJ1c03q8"
   },
   "source": [
    "> ## 1) Numaric"
   ]
  },
  {
   "cell_type": "code",
   "execution_count": null,
   "metadata": {
    "colab": {
     "base_uri": "https://localhost:8080/"
    },
    "executionInfo": {
     "elapsed": 585,
     "status": "ok",
     "timestamp": 1613711934358,
     "user": {
      "displayName": "이성렬",
      "photoUrl": "",
      "userId": "08044204928861003367"
     },
     "user_tz": -540
    },
    "id": "Ht7B43d7uXIl",
    "outputId": "3a6ad5a6-7bca-4f8b-855d-2a74806e1056"
   },
   "outputs": [
    {
     "data": {
      "text/plain": [
       "int"
      ]
     },
     "execution_count": 7,
     "metadata": {
      "tags": []
     },
     "output_type": "execute_result"
    }
   ],
   "source": [
    "type(888)"
   ]
  },
  {
   "cell_type": "code",
   "execution_count": null,
   "metadata": {
    "colab": {
     "base_uri": "https://localhost:8080/"
    },
    "executionInfo": {
     "elapsed": 610,
     "status": "ok",
     "timestamp": 1613711951396,
     "user": {
      "displayName": "이성렬",
      "photoUrl": "",
      "userId": "08044204928861003367"
     },
     "user_tz": -540
    },
    "id": "HnWxlKnFuglm",
    "outputId": "8a05b508-2550-4439-f002-d81af355423c"
   },
   "outputs": [
    {
     "data": {
      "text/plain": [
       "int"
      ]
     },
     "execution_count": 8,
     "metadata": {
      "tags": []
     },
     "output_type": "execute_result"
    }
   ],
   "source": [
    "type(0o77)"
   ]
  },
  {
   "cell_type": "code",
   "execution_count": null,
   "metadata": {
    "colab": {
     "base_uri": "https://localhost:8080/"
    },
    "executionInfo": {
     "elapsed": 561,
     "status": "ok",
     "timestamp": 1613711963213,
     "user": {
      "displayName": "이성렬",
      "photoUrl": "",
      "userId": "08044204928861003367"
     },
     "user_tz": -540
    },
    "id": "8LQjTJpfulFU",
    "outputId": "3a7556c8-43fc-4dd6-be8e-b04c7254726e"
   },
   "outputs": [
    {
     "data": {
      "text/plain": [
       "int"
      ]
     },
     "execution_count": 9,
     "metadata": {
      "tags": []
     },
     "output_type": "execute_result"
    }
   ],
   "source": [
    "type(0xff)"
   ]
  },
  {
   "cell_type": "code",
   "execution_count": null,
   "metadata": {
    "colab": {
     "base_uri": "https://localhost:8080/"
    },
    "executionInfo": {
     "elapsed": 636,
     "status": "ok",
     "timestamp": 1613711983984,
     "user": {
      "displayName": "이성렬",
      "photoUrl": "",
      "userId": "08044204928861003367"
     },
     "user_tz": -540
    },
    "id": "ij5dpmHBuod4",
    "outputId": "965dd361-8ac8-424f-aa2f-df424e87c7b8"
   },
   "outputs": [
    {
     "data": {
      "text/plain": [
       "int"
      ]
     },
     "execution_count": 10,
     "metadata": {
      "tags": []
     },
     "output_type": "execute_result"
    }
   ],
   "source": [
    "type(0b1001)"
   ]
  },
  {
   "cell_type": "code",
   "execution_count": null,
   "metadata": {
    "colab": {
     "base_uri": "https://localhost:8080/"
    },
    "executionInfo": {
     "elapsed": 594,
     "status": "ok",
     "timestamp": 1613711993146,
     "user": {
      "displayName": "이성렬",
      "photoUrl": "",
      "userId": "08044204928861003367"
     },
     "user_tz": -540
    },
    "id": "mFAyCcgWusnl",
    "outputId": "f7850321-97ce-49c0-f6d3-ad1df38d7e8a"
   },
   "outputs": [
    {
     "data": {
      "text/plain": [
       "float"
      ]
     },
     "execution_count": 11,
     "metadata": {
      "tags": []
     },
     "output_type": "execute_result"
    }
   ],
   "source": [
    "type(3.14)"
   ]
  },
  {
   "cell_type": "code",
   "execution_count": null,
   "metadata": {
    "colab": {
     "base_uri": "https://localhost:8080/"
    },
    "executionInfo": {
     "elapsed": 599,
     "status": "ok",
     "timestamp": 1613712005905,
     "user": {
      "displayName": "이성렬",
      "photoUrl": "",
      "userId": "08044204928861003367"
     },
     "user_tz": -540
    },
    "id": "LETaZ1rCuv69",
    "outputId": "48300948-06ea-4a66-f68d-949737606120"
   },
   "outputs": [
    {
     "data": {
      "text/plain": [
       "float"
      ]
     },
     "execution_count": 12,
     "metadata": {
      "tags": []
     },
     "output_type": "execute_result"
    }
   ],
   "source": [
    "type(5e-9)"
   ]
  },
  {
   "cell_type": "code",
   "execution_count": null,
   "metadata": {
    "colab": {
     "base_uri": "https://localhost:8080/"
    },
    "executionInfo": {
     "elapsed": 582,
     "status": "ok",
     "timestamp": 1613712018202,
     "user": {
      "displayName": "이성렬",
      "photoUrl": "",
      "userId": "08044204928861003367"
     },
     "user_tz": -540
    },
    "id": "-TrOvkS4uyLn",
    "outputId": "e935f72c-ef68-42d8-b124-14dbb0d40ef9"
   },
   "outputs": [
    {
     "data": {
      "text/plain": [
       "complex"
      ]
     },
     "execution_count": 13,
     "metadata": {
      "tags": []
     },
     "output_type": "execute_result"
    }
   ],
   "source": [
    "type(8 + 9j)"
   ]
  },
  {
   "cell_type": "markdown",
   "metadata": {
    "id": "XXZmAf22u1eN"
   },
   "source": [
    "> ## 2) String"
   ]
  },
  {
   "cell_type": "code",
   "execution_count": null,
   "metadata": {
    "colab": {
     "base_uri": "https://localhost:8080/"
    },
    "executionInfo": {
     "elapsed": 595,
     "status": "ok",
     "timestamp": 1613712056850,
     "user": {
      "displayName": "이성렬",
      "photoUrl": "",
      "userId": "08044204928861003367"
     },
     "user_tz": -540
    },
    "id": "6JOSt68pu7zJ",
    "outputId": "6253254c-b50d-4d5b-dc93-f7936a6fd9a4"
   },
   "outputs": [
    {
     "data": {
      "text/plain": [
       "str"
      ]
     },
     "execution_count": 14,
     "metadata": {
      "tags": []
     },
     "output_type": "execute_result"
    }
   ],
   "source": [
    "type('A')"
   ]
  },
  {
   "cell_type": "code",
   "execution_count": null,
   "metadata": {
    "colab": {
     "base_uri": "https://localhost:8080/"
    },
    "executionInfo": {
     "elapsed": 593,
     "status": "ok",
     "timestamp": 1613712073703,
     "user": {
      "displayName": "이성렬",
      "photoUrl": "",
      "userId": "08044204928861003367"
     },
     "user_tz": -540
    },
    "id": "Q942ZodRu-fo",
    "outputId": "0f1af2d0-300f-4c36-f2fa-2573c47aa2b7"
   },
   "outputs": [
    {
     "data": {
      "text/plain": [
       "str"
      ]
     },
     "execution_count": 15,
     "metadata": {
      "tags": []
     },
     "output_type": "execute_result"
    }
   ],
   "source": [
    "type('Data Analytics')"
   ]
  },
  {
   "cell_type": "markdown",
   "metadata": {
    "id": "4z4s3SM3vDQb"
   },
   "source": [
    "> ## 3) Logical"
   ]
  },
  {
   "cell_type": "code",
   "execution_count": null,
   "metadata": {
    "colab": {
     "base_uri": "https://localhost:8080/"
    },
    "executionInfo": {
     "elapsed": 579,
     "status": "ok",
     "timestamp": 1613712100646,
     "user": {
      "displayName": "이성렬",
      "photoUrl": "",
      "userId": "08044204928861003367"
     },
     "user_tz": -540
    },
    "id": "NvFhxC3qvFmt",
    "outputId": "53f7b57b-68ad-46b2-94e1-df31c0d19943"
   },
   "outputs": [
    {
     "data": {
      "text/plain": [
       "bool"
      ]
     },
     "execution_count": 16,
     "metadata": {
      "tags": []
     },
     "output_type": "execute_result"
    }
   ],
   "source": [
    "type(True)"
   ]
  },
  {
   "cell_type": "code",
   "execution_count": null,
   "metadata": {
    "colab": {
     "base_uri": "https://localhost:8080/"
    },
    "executionInfo": {
     "elapsed": 595,
     "status": "ok",
     "timestamp": 1613712110728,
     "user": {
      "displayName": "이성렬",
      "photoUrl": "",
      "userId": "08044204928861003367"
     },
     "user_tz": -540
    },
    "id": "Rd7kpREXvJOJ",
    "outputId": "d866f0f9-ad07-4768-807b-c460db1f3db1"
   },
   "outputs": [
    {
     "data": {
      "text/plain": [
       "bool"
      ]
     },
     "execution_count": 17,
     "metadata": {
      "tags": []
     },
     "output_type": "execute_result"
    }
   ],
   "source": [
    "type(False)"
   ]
  },
  {
   "cell_type": "markdown",
   "metadata": {
    "id": "qG3ersbVvNzt"
   },
   "source": [
    "# III. 산술연산(Arithmetic Operators)"
   ]
  },
  {
   "cell_type": "markdown",
   "metadata": {
    "id": "mEvOPeFB1RYa"
   },
   "source": [
    "> ## 1) 사칙연산"
   ]
  },
  {
   "cell_type": "code",
   "execution_count": null,
   "metadata": {
    "colab": {
     "base_uri": "https://localhost:8080/"
    },
    "executionInfo": {
     "elapsed": 587,
     "status": "ok",
     "timestamp": 1613712162617,
     "user": {
      "displayName": "이성렬",
      "photoUrl": "",
      "userId": "08044204928861003367"
     },
     "user_tz": -540
    },
    "id": "__3FOJEqvV2o",
    "outputId": "fe487d30-e7df-4384-c9f8-7e6ae43701bb"
   },
   "outputs": [
    {
     "data": {
      "text/plain": [
       "17"
      ]
     },
     "execution_count": 18,
     "metadata": {
      "tags": []
     },
     "output_type": "execute_result"
    }
   ],
   "source": [
    "8 + 9"
   ]
  },
  {
   "cell_type": "code",
   "execution_count": null,
   "metadata": {
    "colab": {
     "base_uri": "https://localhost:8080/"
    },
    "executionInfo": {
     "elapsed": 590,
     "status": "ok",
     "timestamp": 1613712169560,
     "user": {
      "displayName": "이성렬",
      "photoUrl": "",
      "userId": "08044204928861003367"
     },
     "user_tz": -540
    },
    "id": "6o5KkMS1vYdy",
    "outputId": "dab73fca-97c4-412c-f87b-ee6a32b18c36"
   },
   "outputs": [
    {
     "data": {
      "text/plain": [
       "-1"
      ]
     },
     "execution_count": 19,
     "metadata": {
      "tags": []
     },
     "output_type": "execute_result"
    }
   ],
   "source": [
    "8 - 9"
   ]
  },
  {
   "cell_type": "code",
   "execution_count": null,
   "metadata": {
    "colab": {
     "base_uri": "https://localhost:8080/"
    },
    "executionInfo": {
     "elapsed": 573,
     "status": "ok",
     "timestamp": 1613712179515,
     "user": {
      "displayName": "이성렬",
      "photoUrl": "",
      "userId": "08044204928861003367"
     },
     "user_tz": -540
    },
    "id": "nVoeJv2KvajT",
    "outputId": "a52d401a-f750-4727-ee3b-b427692806eb"
   },
   "outputs": [
    {
     "data": {
      "text/plain": [
       "72"
      ]
     },
     "execution_count": 20,
     "metadata": {
      "tags": []
     },
     "output_type": "execute_result"
    }
   ],
   "source": [
    "8 * 9"
   ]
  },
  {
   "cell_type": "code",
   "execution_count": null,
   "metadata": {
    "colab": {
     "base_uri": "https://localhost:8080/"
    },
    "executionInfo": {
     "elapsed": 583,
     "status": "ok",
     "timestamp": 1613712186179,
     "user": {
      "displayName": "이성렬",
      "photoUrl": "",
      "userId": "08044204928861003367"
     },
     "user_tz": -540
    },
    "id": "mjB8zv_Uvc6m",
    "outputId": "54d423d7-10a8-4669-9115-233f83103b55"
   },
   "outputs": [
    {
     "data": {
      "text/plain": [
       "3.3333333333333335"
      ]
     },
     "execution_count": 21,
     "metadata": {
      "tags": []
     },
     "output_type": "execute_result"
    }
   ],
   "source": [
    "10 / 3"
   ]
  },
  {
   "cell_type": "code",
   "execution_count": null,
   "metadata": {
    "colab": {
     "base_uri": "https://localhost:8080/"
    },
    "executionInfo": {
     "elapsed": 573,
     "status": "ok",
     "timestamp": 1613712190932,
     "user": {
      "displayName": "이성렬",
      "photoUrl": "",
      "userId": "08044204928861003367"
     },
     "user_tz": -540
    },
    "id": "hUKFHZJ3vd-7",
    "outputId": "5c17d376-8c2b-48e6-e882-e74fb58703a0"
   },
   "outputs": [
    {
     "data": {
      "text/plain": [
       "3"
      ]
     },
     "execution_count": 22,
     "metadata": {
      "tags": []
     },
     "output_type": "execute_result"
    }
   ],
   "source": [
    "10 // 3"
   ]
  },
  {
   "cell_type": "code",
   "execution_count": null,
   "metadata": {
    "colab": {
     "base_uri": "https://localhost:8080/"
    },
    "executionInfo": {
     "elapsed": 574,
     "status": "ok",
     "timestamp": 1613712200626,
     "user": {
      "displayName": "이성렬",
      "photoUrl": "",
      "userId": "08044204928861003367"
     },
     "user_tz": -540
    },
    "id": "KfLElwIHvf45",
    "outputId": "2c78b7ee-a95a-4934-ef74-e03b9f3f48bb"
   },
   "outputs": [
    {
     "data": {
      "text/plain": [
       "1"
      ]
     },
     "execution_count": 23,
     "metadata": {
      "tags": []
     },
     "output_type": "execute_result"
    }
   ],
   "source": [
    "10 % 3"
   ]
  },
  {
   "cell_type": "code",
   "execution_count": null,
   "metadata": {
    "colab": {
     "base_uri": "https://localhost:8080/"
    },
    "executionInfo": {
     "elapsed": 581,
     "status": "ok",
     "timestamp": 1613712208225,
     "user": {
      "displayName": "이성렬",
      "photoUrl": "",
      "userId": "08044204928861003367"
     },
     "user_tz": -540
    },
    "id": "Ve56sl9GviSM",
    "outputId": "dc8151f1-dd47-42c1-9797-4a1f78253ba8"
   },
   "outputs": [
    {
     "data": {
      "text/plain": [
       "729"
      ]
     },
     "execution_count": 24,
     "metadata": {
      "tags": []
     },
     "output_type": "execute_result"
    }
   ],
   "source": [
    "9 ** 3"
   ]
  },
  {
   "cell_type": "code",
   "execution_count": null,
   "metadata": {
    "colab": {
     "base_uri": "https://localhost:8080/"
    },
    "executionInfo": {
     "elapsed": 575,
     "status": "ok",
     "timestamp": 1613712218089,
     "user": {
      "displayName": "이성렬",
      "photoUrl": "",
      "userId": "08044204928861003367"
     },
     "user_tz": -540
    },
    "id": "L9YbKKC7vjk_",
    "outputId": "cfe8b0b4-7650-4119-8e36-9bb16a143540"
   },
   "outputs": [
    {
     "data": {
      "text/plain": [
       "81"
      ]
     },
     "execution_count": 25,
     "metadata": {
      "tags": []
     },
     "output_type": "execute_result"
    }
   ],
   "source": [
    "pow(9, 2)"
   ]
  },
  {
   "cell_type": "markdown",
   "metadata": {
    "id": "RP1rozWBvmPo"
   },
   "source": [
    "> ## 2) 절대값"
   ]
  },
  {
   "cell_type": "code",
   "execution_count": null,
   "metadata": {
    "colab": {
     "base_uri": "https://localhost:8080/"
    },
    "executionInfo": {
     "elapsed": 583,
     "status": "ok",
     "timestamp": 1613712237554,
     "user": {
      "displayName": "이성렬",
      "photoUrl": "",
      "userId": "08044204928861003367"
     },
     "user_tz": -540
    },
    "id": "97atlYfhvokn",
    "outputId": "f5d4bf1e-2364-451b-8684-dcb619e18731"
   },
   "outputs": [
    {
     "data": {
      "text/plain": [
       "3"
      ]
     },
     "execution_count": 26,
     "metadata": {
      "tags": []
     },
     "output_type": "execute_result"
    }
   ],
   "source": [
    "abs(-3)"
   ]
  },
  {
   "cell_type": "markdown",
   "metadata": {
    "id": "0tT8i-8CvrzP"
   },
   "source": [
    "> ## 3) 진법 변환"
   ]
  },
  {
   "cell_type": "code",
   "execution_count": null,
   "metadata": {
    "colab": {
     "base_uri": "https://localhost:8080/",
     "height": 36
    },
    "executionInfo": {
     "elapsed": 578,
     "status": "ok",
     "timestamp": 1613712265243,
     "user": {
      "displayName": "이성렬",
      "photoUrl": "",
      "userId": "08044204928861003367"
     },
     "user_tz": -540
    },
    "id": "VaLtK1U1vuIe",
    "outputId": "145a6e14-2960-4a0c-944c-09ba3a390b74"
   },
   "outputs": [
    {
     "data": {
      "application/vnd.google.colaboratory.intrinsic+json": {
       "type": "string"
      },
      "text/plain": [
       "'0x10'"
      ]
     },
     "execution_count": 27,
     "metadata": {
      "tags": []
     },
     "output_type": "execute_result"
    }
   ],
   "source": [
    "hex(16)"
   ]
  },
  {
   "cell_type": "code",
   "execution_count": null,
   "metadata": {
    "colab": {
     "base_uri": "https://localhost:8080/",
     "height": 36
    },
    "executionInfo": {
     "elapsed": 579,
     "status": "ok",
     "timestamp": 1613712272175,
     "user": {
      "displayName": "이성렬",
      "photoUrl": "",
      "userId": "08044204928861003367"
     },
     "user_tz": -540
    },
    "id": "hsBcp4VAvxqj",
    "outputId": "b38c1a4a-5c4e-477c-a69c-7c414f9f8f10"
   },
   "outputs": [
    {
     "data": {
      "application/vnd.google.colaboratory.intrinsic+json": {
       "type": "string"
      },
      "text/plain": [
       "'0o10'"
      ]
     },
     "execution_count": 28,
     "metadata": {
      "tags": []
     },
     "output_type": "execute_result"
    }
   ],
   "source": [
    "oct(8)"
   ]
  },
  {
   "cell_type": "code",
   "execution_count": null,
   "metadata": {
    "colab": {
     "base_uri": "https://localhost:8080/",
     "height": 36
    },
    "executionInfo": {
     "elapsed": 575,
     "status": "ok",
     "timestamp": 1613712279077,
     "user": {
      "displayName": "이성렬",
      "photoUrl": "",
      "userId": "08044204928861003367"
     },
     "user_tz": -540
    },
    "id": "oOpYVOzzvzCc",
    "outputId": "fd075c39-c5db-4ec9-9935-dde5ff47c6eb"
   },
   "outputs": [
    {
     "data": {
      "application/vnd.google.colaboratory.intrinsic+json": {
       "type": "string"
      },
      "text/plain": [
       "'0b1001'"
      ]
     },
     "execution_count": 29,
     "metadata": {
      "tags": []
     },
     "output_type": "execute_result"
    }
   ],
   "source": [
    "bin(9)"
   ]
  },
  {
   "cell_type": "markdown",
   "metadata": {
    "id": "UC_ByIQ8v1zH"
   },
   "source": [
    "> ## 4) 반올림"
   ]
  },
  {
   "cell_type": "code",
   "execution_count": null,
   "metadata": {
    "colab": {
     "base_uri": "https://localhost:8080/"
    },
    "executionInfo": {
     "elapsed": 584,
     "status": "ok",
     "timestamp": 1613712306010,
     "user": {
      "displayName": "이성렬",
      "photoUrl": "",
      "userId": "08044204928861003367"
     },
     "user_tz": -540
    },
    "id": "VPAFBh1Cv3m_",
    "outputId": "211b306b-f6a3-4264-bbbc-3373ec972ca0"
   },
   "outputs": [
    {
     "data": {
      "text/plain": [
       "24"
      ]
     },
     "execution_count": 30,
     "metadata": {
      "tags": []
     },
     "output_type": "execute_result"
    }
   ],
   "source": [
    "round(24.47)"
   ]
  },
  {
   "cell_type": "code",
   "execution_count": null,
   "metadata": {
    "colab": {
     "base_uri": "https://localhost:8080/"
    },
    "executionInfo": {
     "elapsed": 570,
     "status": "ok",
     "timestamp": 1613712316053,
     "user": {
      "displayName": "이성렬",
      "photoUrl": "",
      "userId": "08044204928861003367"
     },
     "user_tz": -540
    },
    "id": "CyY0jB1ev7Tn",
    "outputId": "bcdaeea9-1b63-4de3-db84-4979b8c087b8"
   },
   "outputs": [
    {
     "data": {
      "text/plain": [
       "25"
      ]
     },
     "execution_count": 31,
     "metadata": {
      "tags": []
     },
     "output_type": "execute_result"
    }
   ],
   "source": [
    "round(24.57)"
   ]
  },
  {
   "cell_type": "code",
   "execution_count": null,
   "metadata": {
    "colab": {
     "base_uri": "https://localhost:8080/"
    },
    "executionInfo": {
     "elapsed": 583,
     "status": "ok",
     "timestamp": 1613712334561,
     "user": {
      "displayName": "이성렬",
      "photoUrl": "",
      "userId": "08044204928861003367"
     },
     "user_tz": -540
    },
    "id": "A83fIIr2v-lh",
    "outputId": "9f7a9139-1625-44ec-941c-3ff1feba8b0d"
   },
   "outputs": [
    {
     "data": {
      "text/plain": [
       "25.0"
      ]
     },
     "execution_count": 32,
     "metadata": {
      "tags": []
     },
     "output_type": "execute_result"
    }
   ],
   "source": [
    "round(24.57, ndigits = 0)"
   ]
  },
  {
   "cell_type": "code",
   "execution_count": null,
   "metadata": {
    "colab": {
     "base_uri": "https://localhost:8080/"
    },
    "executionInfo": {
     "elapsed": 591,
     "status": "ok",
     "timestamp": 1613712350813,
     "user": {
      "displayName": "이성렬",
      "photoUrl": "",
      "userId": "08044204928861003367"
     },
     "user_tz": -540
    },
    "id": "hPNSpDwUwDw7",
    "outputId": "d394f9bc-9be9-400e-db1f-66a8cb8bb3f0"
   },
   "outputs": [
    {
     "data": {
      "text/plain": [
       "24.6"
      ]
     },
     "execution_count": 33,
     "metadata": {
      "tags": []
     },
     "output_type": "execute_result"
    }
   ],
   "source": [
    "round(24.57, ndigits = 1)"
   ]
  },
  {
   "cell_type": "code",
   "execution_count": null,
   "metadata": {
    "colab": {
     "base_uri": "https://localhost:8080/"
    },
    "executionInfo": {
     "elapsed": 573,
     "status": "ok",
     "timestamp": 1613712365695,
     "user": {
      "displayName": "이성렬",
      "photoUrl": "",
      "userId": "08044204928861003367"
     },
     "user_tz": -540
    },
    "id": "Kpqkc_YowHJC",
    "outputId": "bf0f67e0-ef8b-4d05-dac5-948e3d95ada3"
   },
   "outputs": [
    {
     "data": {
      "text/plain": [
       "20.0"
      ]
     },
     "execution_count": 34,
     "metadata": {
      "tags": []
     },
     "output_type": "execute_result"
    }
   ],
   "source": [
    "round(24.57, ndigits = -1)"
   ]
  },
  {
   "cell_type": "code",
   "execution_count": null,
   "metadata": {
    "colab": {
     "base_uri": "https://localhost:8080/"
    },
    "executionInfo": {
     "elapsed": 580,
     "status": "ok",
     "timestamp": 1613712393589,
     "user": {
      "displayName": "이성렬",
      "photoUrl": "",
      "userId": "08044204928861003367"
     },
     "user_tz": -540
    },
    "id": "oeH-bbrewNq0",
    "outputId": "3d0ec90e-2a45-4e21-b969-eb98122bf5f4"
   },
   "outputs": [
    {
     "data": {
      "text/plain": [
       "30.0"
      ]
     },
     "execution_count": 35,
     "metadata": {
      "tags": []
     },
     "output_type": "execute_result"
    }
   ],
   "source": [
    "round(25.47, ndigits = -1)"
   ]
  },
  {
   "cell_type": "code",
   "execution_count": null,
   "metadata": {
    "colab": {
     "base_uri": "https://localhost:8080/"
    },
    "executionInfo": {
     "elapsed": 658,
     "status": "ok",
     "timestamp": 1613712445939,
     "user": {
      "displayName": "이성렬",
      "photoUrl": "",
      "userId": "08044204928861003367"
     },
     "user_tz": -540
    },
    "id": "bclNUJlswQ-R",
    "outputId": "cccc810e-9384-4ca6-89da-ffedb92bbd48"
   },
   "outputs": [
    {
     "data": {
      "text/plain": [
       "25.48"
      ]
     },
     "execution_count": 36,
     "metadata": {
      "tags": []
     },
     "output_type": "execute_result"
    }
   ],
   "source": [
    "round(25.478, ndigits = 2)"
   ]
  },
  {
   "cell_type": "markdown",
   "metadata": {
    "id": "fjDkPEMZweHf"
   },
   "source": [
    "# IV. 외부 모듈(External Module)\n",
    "- import math"
   ]
  },
  {
   "cell_type": "code",
   "execution_count": null,
   "metadata": {
    "id": "Eqq2E9pRwma4"
   },
   "outputs": [],
   "source": [
    "import math"
   ]
  },
  {
   "cell_type": "code",
   "execution_count": null,
   "metadata": {
    "colab": {
     "base_uri": "https://localhost:8080/"
    },
    "executionInfo": {
     "elapsed": 552,
     "status": "ok",
     "timestamp": 1613712496844,
     "user": {
      "displayName": "이성렬",
      "photoUrl": "",
      "userId": "08044204928861003367"
     },
     "user_tz": -540
    },
    "id": "H-307R2Fwn74",
    "outputId": "f772d9cf-412e-4570-867e-2201181fe8d8"
   },
   "outputs": [
    {
     "data": {
      "text/plain": [
       "3.141592653589793"
      ]
     },
     "execution_count": 38,
     "metadata": {
      "tags": []
     },
     "output_type": "execute_result"
    }
   ],
   "source": [
    "math.pi"
   ]
  },
  {
   "cell_type": "code",
   "execution_count": null,
   "metadata": {
    "colab": {
     "base_uri": "https://localhost:8080/"
    },
    "executionInfo": {
     "elapsed": 367,
     "status": "ok",
     "timestamp": 1613712503862,
     "user": {
      "displayName": "이성렬",
      "photoUrl": "",
      "userId": "08044204928861003367"
     },
     "user_tz": -540
    },
    "id": "PuMA82evwpZ2",
    "outputId": "a123a11d-ce2c-4342-8c27-6d230c52aa52"
   },
   "outputs": [
    {
     "data": {
      "text/plain": [
       "2.718281828459045"
      ]
     },
     "execution_count": 39,
     "metadata": {
      "tags": []
     },
     "output_type": "execute_result"
    }
   ],
   "source": [
    "math.e"
   ]
  },
  {
   "cell_type": "code",
   "execution_count": null,
   "metadata": {
    "colab": {
     "base_uri": "https://localhost:8080/"
    },
    "executionInfo": {
     "elapsed": 539,
     "status": "ok",
     "timestamp": 1613712517818,
     "user": {
      "displayName": "이성렬",
      "photoUrl": "",
      "userId": "08044204928861003367"
     },
     "user_tz": -540
    },
    "id": "i3lygWhswrDV",
    "outputId": "31c94cae-3761-41db-bf36-ff6389213cd6"
   },
   "outputs": [
    {
     "data": {
      "text/plain": [
       "25"
      ]
     },
     "execution_count": 40,
     "metadata": {
      "tags": []
     },
     "output_type": "execute_result"
    }
   ],
   "source": [
    "math.ceil(24.99)"
   ]
  },
  {
   "cell_type": "code",
   "execution_count": null,
   "metadata": {
    "colab": {
     "base_uri": "https://localhost:8080/"
    },
    "executionInfo": {
     "elapsed": 662,
     "status": "ok",
     "timestamp": 1613712532805,
     "user": {
      "displayName": "이성렬",
      "photoUrl": "",
      "userId": "08044204928861003367"
     },
     "user_tz": -540
    },
    "id": "B48FhejDwuhy",
    "outputId": "aac7d017-2d1f-47d6-b182-84952bacb9ed"
   },
   "outputs": [
    {
     "data": {
      "text/plain": [
       "24"
      ]
     },
     "execution_count": 41,
     "metadata": {
      "tags": []
     },
     "output_type": "execute_result"
    }
   ],
   "source": [
    "math.floor(24.99)"
   ]
  },
  {
   "cell_type": "code",
   "execution_count": null,
   "metadata": {
    "colab": {
     "base_uri": "https://localhost:8080/"
    },
    "executionInfo": {
     "elapsed": 550,
     "status": "ok",
     "timestamp": 1613712566017,
     "user": {
      "displayName": "이성렬",
      "photoUrl": "",
      "userId": "08044204928861003367"
     },
     "user_tz": -540
    },
    "id": "pWW9zBf6wyJ1",
    "outputId": "7a324746-353a-4d97-e7c1-48439b918ea7"
   },
   "outputs": [
    {
     "data": {
      "text/plain": [
       "24"
      ]
     },
     "execution_count": 42,
     "metadata": {
      "tags": []
     },
     "output_type": "execute_result"
    }
   ],
   "source": [
    "math.trunc(24.99)"
   ]
  },
  {
   "cell_type": "code",
   "execution_count": null,
   "metadata": {
    "colab": {
     "base_uri": "https://localhost:8080/"
    },
    "executionInfo": {
     "elapsed": 544,
     "status": "ok",
     "timestamp": 1613712580812,
     "user": {
      "displayName": "이성렬",
      "photoUrl": "",
      "userId": "08044204928861003367"
     },
     "user_tz": -540
    },
    "id": "rIqudk0_w6Ss",
    "outputId": "c0a20795-0322-4bc1-8bcf-cae068334bd4"
   },
   "outputs": [
    {
     "data": {
      "text/plain": [
       "2.0"
      ]
     },
     "execution_count": 43,
     "metadata": {
      "tags": []
     },
     "output_type": "execute_result"
    }
   ],
   "source": [
    "math.log(100,10)"
   ]
  },
  {
   "cell_type": "code",
   "execution_count": null,
   "metadata": {
    "colab": {
     "base_uri": "https://localhost:8080/"
    },
    "executionInfo": {
     "elapsed": 528,
     "status": "ok",
     "timestamp": 1613712590966,
     "user": {
      "displayName": "이성렬",
      "photoUrl": "",
      "userId": "08044204928861003367"
     },
     "user_tz": -540
    },
    "id": "fTMxBq_Gw96D",
    "outputId": "9cb65f00-7779-4805-ce07-61517708e588"
   },
   "outputs": [
    {
     "data": {
      "text/plain": [
       "2.0"
      ]
     },
     "execution_count": 44,
     "metadata": {
      "tags": []
     },
     "output_type": "execute_result"
    }
   ],
   "source": [
    "math.log10(100)"
   ]
  },
  {
   "cell_type": "code",
   "execution_count": null,
   "metadata": {
    "colab": {
     "base_uri": "https://localhost:8080/"
    },
    "executionInfo": {
     "elapsed": 539,
     "status": "ok",
     "timestamp": 1613712605145,
     "user": {
      "displayName": "이성렬",
      "photoUrl": "",
      "userId": "08044204928861003367"
     },
     "user_tz": -540
    },
    "id": "lSuXi3_TxAYd",
    "outputId": "2d46f2fc-0bee-4b1e-c0ef-32f7eb8dcedf"
   },
   "outputs": [
    {
     "data": {
      "text/plain": [
       "6.643856189774725"
      ]
     },
     "execution_count": 45,
     "metadata": {
      "tags": []
     },
     "output_type": "execute_result"
    }
   ],
   "source": [
    "math.log(100, 2)"
   ]
  },
  {
   "cell_type": "code",
   "execution_count": null,
   "metadata": {
    "colab": {
     "base_uri": "https://localhost:8080/"
    },
    "executionInfo": {
     "elapsed": 619,
     "status": "ok",
     "timestamp": 1613712623638,
     "user": {
      "displayName": "이성렬",
      "photoUrl": "",
      "userId": "08044204928861003367"
     },
     "user_tz": -540
    },
    "id": "SVMXCHxyxD2M",
    "outputId": "10060177-0fc8-42ba-def9-9a5ff79ef59d"
   },
   "outputs": [
    {
     "data": {
      "text/plain": [
       "6.643856189774724"
      ]
     },
     "execution_count": 46,
     "metadata": {
      "tags": []
     },
     "output_type": "execute_result"
    }
   ],
   "source": [
    "math.log2(100)"
   ]
  },
  {
   "cell_type": "code",
   "execution_count": null,
   "metadata": {
    "colab": {
     "base_uri": "https://localhost:8080/"
    },
    "executionInfo": {
     "elapsed": 528,
     "status": "ok",
     "timestamp": 1613712631244,
     "user": {
      "displayName": "이성렬",
      "photoUrl": "",
      "userId": "08044204928861003367"
     },
     "user_tz": -540
    },
    "id": "P5WhtXIxxIV_",
    "outputId": "b613ce4e-b358-4c9b-b53d-ff2d2fedc96e"
   },
   "outputs": [
    {
     "data": {
      "text/plain": [
       "4.605170185988092"
      ]
     },
     "execution_count": 47,
     "metadata": {
      "tags": []
     },
     "output_type": "execute_result"
    }
   ],
   "source": [
    "math.log(100)"
   ]
  },
  {
   "cell_type": "code",
   "execution_count": null,
   "metadata": {
    "colab": {
     "base_uri": "https://localhost:8080/"
    },
    "executionInfo": {
     "elapsed": 585,
     "status": "ok",
     "timestamp": 1613712648362,
     "user": {
      "displayName": "이성렬",
      "photoUrl": "",
      "userId": "08044204928861003367"
     },
     "user_tz": -540
    },
    "id": "elIDCYF3xKOD",
    "outputId": "5886d236-16e6-4a93-c1f5-9ec3679e8edc"
   },
   "outputs": [
    {
     "data": {
      "text/plain": [
       "81.0"
      ]
     },
     "execution_count": 48,
     "metadata": {
      "tags": []
     },
     "output_type": "execute_result"
    }
   ],
   "source": [
    "math.pow(9, 2)"
   ]
  },
  {
   "cell_type": "code",
   "execution_count": null,
   "metadata": {
    "colab": {
     "base_uri": "https://localhost:8080/"
    },
    "executionInfo": {
     "elapsed": 559,
     "status": "ok",
     "timestamp": 1613712659568,
     "user": {
      "displayName": "이성렬",
      "photoUrl": "",
      "userId": "08044204928861003367"
     },
     "user_tz": -540
    },
    "id": "L1FEWRIaxOY3",
    "outputId": "468e5d17-1365-427a-9993-2355576893f2"
   },
   "outputs": [
    {
     "data": {
      "text/plain": [
       "9.0"
      ]
     },
     "execution_count": 49,
     "metadata": {
      "tags": []
     },
     "output_type": "execute_result"
    }
   ],
   "source": [
    "math.sqrt(81)"
   ]
  },
  {
   "cell_type": "code",
   "execution_count": null,
   "metadata": {
    "colab": {
     "base_uri": "https://localhost:8080/"
    },
    "executionInfo": {
     "elapsed": 542,
     "status": "ok",
     "timestamp": 1613712670235,
     "user": {
      "displayName": "이성렬",
      "photoUrl": "",
      "userId": "08044204928861003367"
     },
     "user_tz": -540
    },
    "id": "WUEPXkSqxRIO",
    "outputId": "23dd3681-4e0f-4d8d-e875-ca3ad5059df9"
   },
   "outputs": [
    {
     "data": {
      "text/plain": [
       "0.8509035245341184"
      ]
     },
     "execution_count": 50,
     "metadata": {
      "tags": []
     },
     "output_type": "execute_result"
    }
   ],
   "source": [
    "math.sin(45)"
   ]
  },
  {
   "cell_type": "code",
   "execution_count": null,
   "metadata": {
    "colab": {
     "base_uri": "https://localhost:8080/"
    },
    "executionInfo": {
     "elapsed": 577,
     "status": "ok",
     "timestamp": 1613712679267,
     "user": {
      "displayName": "이성렬",
      "photoUrl": "",
      "userId": "08044204928861003367"
     },
     "user_tz": -540
    },
    "id": "k3QMac-zxTvP",
    "outputId": "99cb6708-93bb-44eb-9f3a-9121978390ba"
   },
   "outputs": [
    {
     "data": {
      "text/plain": [
       "0.5253219888177297"
      ]
     },
     "execution_count": 51,
     "metadata": {
      "tags": []
     },
     "output_type": "execute_result"
    }
   ],
   "source": [
    "math.cos(45)"
   ]
  },
  {
   "cell_type": "code",
   "execution_count": null,
   "metadata": {
    "colab": {
     "base_uri": "https://localhost:8080/"
    },
    "executionInfo": {
     "elapsed": 564,
     "status": "ok",
     "timestamp": 1613712686098,
     "user": {
      "displayName": "이성렬",
      "photoUrl": "",
      "userId": "08044204928861003367"
     },
     "user_tz": -540
    },
    "id": "zEOAKOp9xV71",
    "outputId": "8720db7e-70b3-41b5-9659-ca3a7b7e7e5e"
   },
   "outputs": [
    {
     "data": {
      "text/plain": [
       "1.6197751905438615"
      ]
     },
     "execution_count": 52,
     "metadata": {
      "tags": []
     },
     "output_type": "execute_result"
    }
   ],
   "source": [
    "math.tan(45)"
   ]
  },
  {
   "cell_type": "markdown",
   "metadata": {
    "id": "Jdo5zIH5xYxr"
   },
   "source": [
    "# V. 할당 연산자(Assignment Operators)"
   ]
  },
  {
   "cell_type": "code",
   "execution_count": null,
   "metadata": {
    "colab": {
     "base_uri": "https://localhost:8080/"
    },
    "executionInfo": {
     "elapsed": 592,
     "status": "ok",
     "timestamp": 1613712729342,
     "user": {
      "displayName": "이성렬",
      "photoUrl": "",
      "userId": "08044204928861003367"
     },
     "user_tz": -540
    },
    "id": "iTMU1skexezT",
    "outputId": "96fbcf71-83f9-4fe4-b868-0bf6cdd891e5"
   },
   "outputs": [
    {
     "name": "stdout",
     "output_type": "stream",
     "text": [
      "88\n"
     ]
    }
   ],
   "source": [
    "koo = 88\n",
    "print(koo)"
   ]
  },
  {
   "cell_type": "markdown",
   "metadata": {
    "id": "oGZPla_pxiwD"
   },
   "source": [
    "> ## 1) +="
   ]
  },
  {
   "cell_type": "code",
   "execution_count": null,
   "metadata": {
    "colab": {
     "base_uri": "https://localhost:8080/"
    },
    "executionInfo": {
     "elapsed": 616,
     "status": "ok",
     "timestamp": 1613712759492,
     "user": {
      "displayName": "이성렬",
      "photoUrl": "",
      "userId": "08044204928861003367"
     },
     "user_tz": -540
    },
    "id": "AtuEJR0bxlMz",
    "outputId": "52ae167a-586d-4765-f3bc-ba132c982513"
   },
   "outputs": [
    {
     "name": "stdout",
     "output_type": "stream",
     "text": [
      "99\n"
     ]
    }
   ],
   "source": [
    "# koo = koo + 11\n",
    "koo += 11\n",
    "print(koo)"
   ]
  },
  {
   "cell_type": "markdown",
   "metadata": {
    "id": "TSrOuuZGxq-s"
   },
   "source": [
    "> ## 2) -="
   ]
  },
  {
   "cell_type": "code",
   "execution_count": null,
   "metadata": {
    "colab": {
     "base_uri": "https://localhost:8080/"
    },
    "executionInfo": {
     "elapsed": 607,
     "status": "ok",
     "timestamp": 1613712793345,
     "user": {
      "displayName": "이성렬",
      "photoUrl": "",
      "userId": "08044204928861003367"
     },
     "user_tz": -540
    },
    "id": "oXz31_sNxs14",
    "outputId": "7c430f3b-c0c5-4e17-92ac-7e2db58b4373"
   },
   "outputs": [
    {
     "name": "stdout",
     "output_type": "stream",
     "text": [
      "88\n"
     ]
    }
   ],
   "source": [
    "# koo = koo -11\n",
    "koo -= 11\n",
    "print(koo)"
   ]
  },
  {
   "cell_type": "markdown",
   "metadata": {
    "id": "Hp2vCvcrx1do"
   },
   "source": [
    "> ## 3) *="
   ]
  },
  {
   "cell_type": "code",
   "execution_count": null,
   "metadata": {
    "colab": {
     "base_uri": "https://localhost:8080/"
    },
    "executionInfo": {
     "elapsed": 611,
     "status": "ok",
     "timestamp": 1613712870932,
     "user": {
      "displayName": "이성렬",
      "photoUrl": "",
      "userId": "08044204928861003367"
     },
     "user_tz": -540
    },
    "id": "_ukMIVM9x3p5",
    "outputId": "32a66d4c-96a5-4fa7-834f-515fe28d97dc"
   },
   "outputs": [
    {
     "name": "stdout",
     "output_type": "stream",
     "text": [
      "880\n"
     ]
    }
   ],
   "source": [
    "# koo = koo * 10\n",
    "koo *= 10\n",
    "print(koo)"
   ]
  },
  {
   "cell_type": "markdown",
   "metadata": {
    "id": "sdI7GNKAx3_U"
   },
   "source": [
    "> ## 4) /="
   ]
  },
  {
   "cell_type": "code",
   "execution_count": null,
   "metadata": {
    "colab": {
     "base_uri": "https://localhost:8080/"
    },
    "executionInfo": {
     "elapsed": 711,
     "status": "ok",
     "timestamp": 1613713793698,
     "user": {
      "displayName": "이성렬",
      "photoUrl": "",
      "userId": "08044204928861003367"
     },
     "user_tz": -540
    },
    "id": "V5G7XQDDx6EL",
    "outputId": "672a2361-bc7b-4e93-9492-1756b7947c4b"
   },
   "outputs": [
    {
     "name": "stdout",
     "output_type": "stream",
     "text": [
      "0.4\n"
     ]
    }
   ],
   "source": [
    "# koo = koo / 10\n",
    "koo /= 10\n",
    "print(koo)"
   ]
  },
  {
   "cell_type": "markdown",
   "metadata": {
    "id": "pNpKn0-ux6hm"
   },
   "source": [
    "> ## 5) //="
   ]
  },
  {
   "cell_type": "code",
   "execution_count": null,
   "metadata": {
    "colab": {
     "base_uri": "https://localhost:8080/"
    },
    "executionInfo": {
     "elapsed": 639,
     "status": "ok",
     "timestamp": 1613713800344,
     "user": {
      "displayName": "이성렬",
      "photoUrl": "",
      "userId": "08044204928861003367"
     },
     "user_tz": -540
    },
    "id": "9ORkBa9Yx-LQ",
    "outputId": "095e0e2a-5985-4268-ad9c-8f5a7a362d52"
   },
   "outputs": [
    {
     "name": "stdout",
     "output_type": "stream",
     "text": [
      "0.0\n"
     ]
    }
   ],
   "source": [
    "# koo = koo // 10\n",
    "koo //= 10\n",
    "print(koo)"
   ]
  },
  {
   "cell_type": "markdown",
   "metadata": {
    "id": "Pxs3KdMdyMbg"
   },
   "source": [
    "> ## 6) %="
   ]
  },
  {
   "cell_type": "code",
   "execution_count": null,
   "metadata": {
    "colab": {
     "base_uri": "https://localhost:8080/"
    },
    "executionInfo": {
     "elapsed": 576,
     "status": "ok",
     "timestamp": 1613712930401,
     "user": {
      "displayName": "이성렬",
      "photoUrl": "",
      "userId": "08044204928861003367"
     },
     "user_tz": -540
    },
    "id": "WouxNVUSyOHJ",
    "outputId": "7e8cca49-60b6-4215-d833-205b8fe111aa"
   },
   "outputs": [
    {
     "name": "stdout",
     "output_type": "stream",
     "text": [
      "2.0\n"
     ]
    }
   ],
   "source": [
    "# koo = koo % 3\n",
    "koo %= 3\n",
    "print(koo)"
   ]
  },
  {
   "cell_type": "markdown",
   "metadata": {
    "id": "0CtJOQafyUdi"
   },
   "source": [
    "> ## 7) **="
   ]
  },
  {
   "cell_type": "code",
   "execution_count": null,
   "metadata": {
    "colab": {
     "base_uri": "https://localhost:8080/"
    },
    "executionInfo": {
     "elapsed": 570,
     "status": "ok",
     "timestamp": 1613712960333,
     "user": {
      "displayName": "이성렬",
      "photoUrl": "",
      "userId": "08044204928861003367"
     },
     "user_tz": -540
    },
    "id": "DOmb_AgXyTPw",
    "outputId": "d46e1feb-e910-4577-fbc1-e701ead5e599"
   },
   "outputs": [
    {
     "name": "stdout",
     "output_type": "stream",
     "text": [
      "4.0\n"
     ]
    }
   ],
   "source": [
    "# koo = koo ** 2\n",
    "koo **= 2\n",
    "print(koo)"
   ]
  },
  {
   "cell_type": "markdown",
   "metadata": {
    "id": "B7UzhkkgycIO"
   },
   "source": [
    "# VI. 비교 연산자(Comparison Operators)"
   ]
  },
  {
   "cell_type": "code",
   "execution_count": null,
   "metadata": {
    "colab": {
     "base_uri": "https://localhost:8080/"
    },
    "executionInfo": {
     "elapsed": 536,
     "status": "ok",
     "timestamp": 1613713019220,
     "user": {
      "displayName": "이성렬",
      "photoUrl": "",
      "userId": "08044204928861003367"
     },
     "user_tz": -540
    },
    "id": "MEFUOGpPyajS",
    "outputId": "9cd3476a-7cb2-4712-c136-0cb7e285073b"
   },
   "outputs": [
    {
     "data": {
      "text/plain": [
       "False"
      ]
     },
     "execution_count": 62,
     "metadata": {
      "tags": []
     },
     "output_type": "execute_result"
    }
   ],
   "source": [
    "8 > 9"
   ]
  },
  {
   "cell_type": "code",
   "execution_count": null,
   "metadata": {
    "colab": {
     "base_uri": "https://localhost:8080/"
    },
    "executionInfo": {
     "elapsed": 572,
     "status": "ok",
     "timestamp": 1613713031566,
     "user": {
      "displayName": "이성렬",
      "photoUrl": "",
      "userId": "08044204928861003367"
     },
     "user_tz": -540
    },
    "id": "Go-CUWmryo71",
    "outputId": "40094e2f-fdfd-4796-a0be-23f81bf4478d"
   },
   "outputs": [
    {
     "data": {
      "text/plain": [
       "True"
      ]
     },
     "execution_count": 63,
     "metadata": {
      "tags": []
     },
     "output_type": "execute_result"
    }
   ],
   "source": [
    "8 < 9"
   ]
  },
  {
   "cell_type": "code",
   "execution_count": null,
   "metadata": {
    "colab": {
     "base_uri": "https://localhost:8080/"
    },
    "executionInfo": {
     "elapsed": 571,
     "status": "ok",
     "timestamp": 1613713042939,
     "user": {
      "displayName": "이성렬",
      "photoUrl": "",
      "userId": "08044204928861003367"
     },
     "user_tz": -540
    },
    "id": "0M6CZMXFyr8e",
    "outputId": "8df89a7c-42be-4f52-de1f-9d073b75dc2b"
   },
   "outputs": [
    {
     "data": {
      "text/plain": [
       "False"
      ]
     },
     "execution_count": 64,
     "metadata": {
      "tags": []
     },
     "output_type": "execute_result"
    }
   ],
   "source": [
    "8 >= 9"
   ]
  },
  {
   "cell_type": "code",
   "execution_count": null,
   "metadata": {
    "colab": {
     "base_uri": "https://localhost:8080/"
    },
    "executionInfo": {
     "elapsed": 561,
     "status": "ok",
     "timestamp": 1613713047758,
     "user": {
      "displayName": "이성렬",
      "photoUrl": "",
      "userId": "08044204928861003367"
     },
     "user_tz": -540
    },
    "id": "yjXNiGKayuuM",
    "outputId": "2b4443c1-8108-44fe-f23e-8f0cce9ab703"
   },
   "outputs": [
    {
     "data": {
      "text/plain": [
       "True"
      ]
     },
     "execution_count": 65,
     "metadata": {
      "tags": []
     },
     "output_type": "execute_result"
    }
   ],
   "source": [
    "8 <= 9"
   ]
  },
  {
   "cell_type": "code",
   "execution_count": null,
   "metadata": {
    "colab": {
     "base_uri": "https://localhost:8080/"
    },
    "executionInfo": {
     "elapsed": 564,
     "status": "ok",
     "timestamp": 1613713060606,
     "user": {
      "displayName": "이성렬",
      "photoUrl": "",
      "userId": "08044204928861003367"
     },
     "user_tz": -540
    },
    "id": "0I_tSAEvyv5s",
    "outputId": "a9fd1017-ed8e-48d5-daf8-9bcadb50d589"
   },
   "outputs": [
    {
     "data": {
      "text/plain": [
       "False"
      ]
     },
     "execution_count": 66,
     "metadata": {
      "tags": []
     },
     "output_type": "execute_result"
    }
   ],
   "source": [
    "8 == 9"
   ]
  },
  {
   "cell_type": "code",
   "execution_count": null,
   "metadata": {
    "colab": {
     "base_uri": "https://localhost:8080/"
    },
    "executionInfo": {
     "elapsed": 437,
     "status": "ok",
     "timestamp": 1613713069641,
     "user": {
      "displayName": "이성렬",
      "photoUrl": "",
      "userId": "08044204928861003367"
     },
     "user_tz": -540
    },
    "id": "S5_vGpc-yzCV",
    "outputId": "03f770ae-62a2-4787-8eb6-d75317bc3627"
   },
   "outputs": [
    {
     "data": {
      "text/plain": [
       "True"
      ]
     },
     "execution_count": 67,
     "metadata": {
      "tags": []
     },
     "output_type": "execute_result"
    }
   ],
   "source": [
    "8 != 9"
   ]
  },
  {
   "cell_type": "markdown",
   "metadata": {
    "id": "PENCtybpy2DX"
   },
   "source": [
    "> ## 2) Character"
   ]
  },
  {
   "cell_type": "code",
   "execution_count": null,
   "metadata": {
    "colab": {
     "base_uri": "https://localhost:8080/"
    },
    "executionInfo": {
     "elapsed": 556,
     "status": "ok",
     "timestamp": 1613713095730,
     "user": {
      "displayName": "이성렬",
      "photoUrl": "",
      "userId": "08044204928861003367"
     },
     "user_tz": -540
    },
    "id": "cB6mddMdy1RR",
    "outputId": "f885b99a-edd8-4d56-e09c-ab9335c9dfe1"
   },
   "outputs": [
    {
     "data": {
      "text/plain": [
       "False"
      ]
     },
     "execution_count": 68,
     "metadata": {
      "tags": []
     },
     "output_type": "execute_result"
    }
   ],
   "source": [
    "'A' > 'B'"
   ]
  },
  {
   "cell_type": "code",
   "execution_count": null,
   "metadata": {
    "colab": {
     "base_uri": "https://localhost:8080/"
    },
    "executionInfo": {
     "elapsed": 554,
     "status": "ok",
     "timestamp": 1613713103055,
     "user": {
      "displayName": "이성렬",
      "photoUrl": "",
      "userId": "08044204928861003367"
     },
     "user_tz": -540
    },
    "id": "e8DI3O0ky7nT",
    "outputId": "1d012008-a01b-4b65-9816-1c93cad6a61c"
   },
   "outputs": [
    {
     "data": {
      "text/plain": [
       "True"
      ]
     },
     "execution_count": 69,
     "metadata": {
      "tags": []
     },
     "output_type": "execute_result"
    }
   ],
   "source": [
    "'A' < 'B'"
   ]
  },
  {
   "cell_type": "code",
   "execution_count": null,
   "metadata": {
    "colab": {
     "base_uri": "https://localhost:8080/"
    },
    "executionInfo": {
     "elapsed": 559,
     "status": "ok",
     "timestamp": 1613713111453,
     "user": {
      "displayName": "이성렬",
      "photoUrl": "",
      "userId": "08044204928861003367"
     },
     "user_tz": -540
    },
    "id": "dvH1tkQgy9Zv",
    "outputId": "5d6cfeb8-f328-495d-db10-4f3a27fee7d1"
   },
   "outputs": [
    {
     "data": {
      "text/plain": [
       "False"
      ]
     },
     "execution_count": 70,
     "metadata": {
      "tags": []
     },
     "output_type": "execute_result"
    }
   ],
   "source": [
    "'A' == 'B'"
   ]
  },
  {
   "cell_type": "code",
   "execution_count": null,
   "metadata": {
    "colab": {
     "base_uri": "https://localhost:8080/"
    },
    "executionInfo": {
     "elapsed": 565,
     "status": "ok",
     "timestamp": 1613713117242,
     "user": {
      "displayName": "이성렬",
      "photoUrl": "",
      "userId": "08044204928861003367"
     },
     "user_tz": -540
    },
    "id": "horDWXoRy_cj",
    "outputId": "63e28faa-d751-48bb-bd5e-c9b0d9864b5b"
   },
   "outputs": [
    {
     "data": {
      "text/plain": [
       "True"
      ]
     },
     "execution_count": 71,
     "metadata": {
      "tags": []
     },
     "output_type": "execute_result"
    }
   ],
   "source": [
    "'A' != 'B'"
   ]
  },
  {
   "cell_type": "code",
   "execution_count": null,
   "metadata": {
    "colab": {
     "base_uri": "https://localhost:8080/",
     "height": 174
    },
    "executionInfo": {
     "elapsed": 572,
     "status": "error",
     "timestamp": 1613713132640,
     "user": {
      "displayName": "이성렬",
      "photoUrl": "",
      "userId": "08044204928861003367"
     },
     "user_tz": -540
    },
    "id": "jkrZVYYxzA3V",
    "outputId": "72a95285-8256-4b1a-a2ec-87eefb9e0d3e"
   },
   "outputs": [
    {
     "ename": "TypeError",
     "evalue": "ignored",
     "output_type": "error",
     "traceback": [
      "\u001b[0;31m---------------------------------------------------------------------------\u001b[0m",
      "\u001b[0;31mTypeError\u001b[0m                                 Traceback (most recent call last)",
      "\u001b[0;32m<ipython-input-72-8dbbd53735b8>\u001b[0m in \u001b[0;36m<module>\u001b[0;34m()\u001b[0m\n\u001b[0;32m----> 1\u001b[0;31m \u001b[0;34m'팔'\u001b[0m \u001b[0;34m>\u001b[0m \u001b[0;36m9\u001b[0m\u001b[0;34m\u001b[0m\u001b[0;34m\u001b[0m\u001b[0m\n\u001b[0m",
      "\u001b[0;31mTypeError\u001b[0m: '>' not supported between instances of 'str' and 'int'"
     ]
    }
   ],
   "source": [
    "'팔' > 9"
   ]
  },
  {
   "cell_type": "code",
   "execution_count": null,
   "metadata": {
    "colab": {
     "base_uri": "https://localhost:8080/",
     "height": 174
    },
    "executionInfo": {
     "elapsed": 654,
     "status": "error",
     "timestamp": 1613713143723,
     "user": {
      "displayName": "이성렬",
      "photoUrl": "",
      "userId": "08044204928861003367"
     },
     "user_tz": -540
    },
    "id": "mOmQQc-zzEnm",
    "outputId": "18901cf4-ffad-4e42-b310-c7e0ed5c204b"
   },
   "outputs": [
    {
     "ename": "TypeError",
     "evalue": "ignored",
     "output_type": "error",
     "traceback": [
      "\u001b[0;31m---------------------------------------------------------------------------\u001b[0m",
      "\u001b[0;31mTypeError\u001b[0m                                 Traceback (most recent call last)",
      "\u001b[0;32m<ipython-input-73-41e11a074f7f>\u001b[0m in \u001b[0;36m<module>\u001b[0;34m()\u001b[0m\n\u001b[0;32m----> 1\u001b[0;31m \u001b[0;34m'A'\u001b[0m \u001b[0;34m>\u001b[0m \u001b[0;36m9\u001b[0m\u001b[0;34m\u001b[0m\u001b[0;34m\u001b[0m\u001b[0m\n\u001b[0m",
      "\u001b[0;31mTypeError\u001b[0m: '>' not supported between instances of 'str' and 'int'"
     ]
    }
   ],
   "source": [
    "'A' > 9"
   ]
  },
  {
   "cell_type": "markdown",
   "metadata": {
    "id": "L9G8TowizIOW"
   },
   "source": [
    "# VII. 논리 연산자(Logical Operatiors)"
   ]
  },
  {
   "cell_type": "code",
   "execution_count": null,
   "metadata": {
    "colab": {
     "base_uri": "https://localhost:8080/"
    },
    "executionInfo": {
     "elapsed": 568,
     "status": "ok",
     "timestamp": 1613713203092,
     "user": {
      "displayName": "이성렬",
      "photoUrl": "",
      "userId": "08044204928861003367"
     },
     "user_tz": -540
    },
    "id": "noDaTBGrzHTq",
    "outputId": "c8bfe12f-db30-440a-becb-0690f6ff52cc"
   },
   "outputs": [
    {
     "name": "stdout",
     "output_type": "stream",
     "text": [
      "True False True\n"
     ]
    }
   ],
   "source": [
    "X = True\n",
    "Y = False\n",
    "Z = True\n",
    "\n",
    "print(X, Y, Z)"
   ]
  },
  {
   "cell_type": "markdown",
   "metadata": {
    "id": "xcFq3oLvzXr8"
   },
   "source": [
    "> ## 1) AND"
   ]
  },
  {
   "cell_type": "code",
   "execution_count": null,
   "metadata": {
    "colab": {
     "base_uri": "https://localhost:8080/"
    },
    "executionInfo": {
     "elapsed": 585,
     "status": "ok",
     "timestamp": 1613713266019,
     "user": {
      "displayName": "이성렬",
      "photoUrl": "",
      "userId": "08044204928861003367"
     },
     "user_tz": -540
    },
    "id": "v9O-XFWMzZb-",
    "outputId": "dc28c2fa-e129-46e0-8a56-94f686d65123"
   },
   "outputs": [
    {
     "data": {
      "text/plain": [
       "False"
      ]
     },
     "execution_count": 75,
     "metadata": {
      "tags": []
     },
     "output_type": "execute_result"
    }
   ],
   "source": [
    "X and Y"
   ]
  },
  {
   "cell_type": "markdown",
   "metadata": {
    "id": "bx9fVrtzzZqf"
   },
   "source": [
    "> ## 2) OR"
   ]
  },
  {
   "cell_type": "code",
   "execution_count": null,
   "metadata": {
    "colab": {
     "base_uri": "https://localhost:8080/"
    },
    "executionInfo": {
     "elapsed": 608,
     "status": "ok",
     "timestamp": 1613713275245,
     "user": {
      "displayName": "이성렬",
      "photoUrl": "",
      "userId": "08044204928861003367"
     },
     "user_tz": -540
    },
    "id": "s3fUe1EJzbsm",
    "outputId": "7186ded5-4f7c-4197-a0eb-25d2fe9c0bc7"
   },
   "outputs": [
    {
     "data": {
      "text/plain": [
       "True"
      ]
     },
     "execution_count": 76,
     "metadata": {
      "tags": []
     },
     "output_type": "execute_result"
    }
   ],
   "source": [
    "X or Y"
   ]
  },
  {
   "cell_type": "markdown",
   "metadata": {
    "id": "55M5D2aIzb3I"
   },
   "source": [
    "> ## 3) NOT"
   ]
  },
  {
   "cell_type": "code",
   "execution_count": null,
   "metadata": {
    "colab": {
     "base_uri": "https://localhost:8080/"
    },
    "executionInfo": {
     "elapsed": 719,
     "status": "ok",
     "timestamp": 1613713280424,
     "user": {
      "displayName": "이성렬",
      "photoUrl": "",
      "userId": "08044204928861003367"
     },
     "user_tz": -540
    },
    "id": "uFSD9AX3ze0P",
    "outputId": "030f405a-58f3-461d-f8e2-050be292e92e"
   },
   "outputs": [
    {
     "data": {
      "text/plain": [
       "False"
      ]
     },
     "execution_count": 77,
     "metadata": {
      "tags": []
     },
     "output_type": "execute_result"
    }
   ],
   "source": [
    "not X"
   ]
  },
  {
   "cell_type": "markdown",
   "metadata": {
    "id": "IhCLCTvvzfMQ"
   },
   "source": [
    "> ## 4) 괄호 연산자"
   ]
  },
  {
   "cell_type": "code",
   "execution_count": null,
   "metadata": {
    "colab": {
     "base_uri": "https://localhost:8080/"
    },
    "executionInfo": {
     "elapsed": 572,
     "status": "ok",
     "timestamp": 1613713294150,
     "user": {
      "displayName": "이성렬",
      "photoUrl": "",
      "userId": "08044204928861003367"
     },
     "user_tz": -540
    },
    "id": "AbNKUc7YziPF",
    "outputId": "fad60447-1d11-4c07-b788-ccef8bb90f2a"
   },
   "outputs": [
    {
     "data": {
      "text/plain": [
       "False"
      ]
     },
     "execution_count": 78,
     "metadata": {
      "tags": []
     },
     "output_type": "execute_result"
    }
   ],
   "source": [
    "(X and Y) and (Y or Z)"
   ]
  },
  {
   "cell_type": "markdown",
   "metadata": {
    "id": "eIjJu7rzztTE"
   },
   "source": [
    "# VIII. 식별 연산자(Identity Operators)"
   ]
  },
  {
   "cell_type": "code",
   "execution_count": null,
   "metadata": {
    "id": "t5C1gPKLzytF"
   },
   "outputs": [],
   "source": [
    "n = 8\n",
    "m = 9"
   ]
  },
  {
   "cell_type": "markdown",
   "metadata": {
    "id": "TdsWIdr2z4AB"
   },
   "source": [
    "> ## 1) is, is not"
   ]
  },
  {
   "cell_type": "code",
   "execution_count": null,
   "metadata": {
    "colab": {
     "base_uri": "https://localhost:8080/"
    },
    "executionInfo": {
     "elapsed": 617,
     "status": "ok",
     "timestamp": 1613713404496,
     "user": {
      "displayName": "이성렬",
      "photoUrl": "",
      "userId": "08044204928861003367"
     },
     "user_tz": -540
    },
    "id": "F-LepOkxz8j5",
    "outputId": "da4297de-68e3-40ad-bc02-46805d487ddf"
   },
   "outputs": [
    {
     "data": {
      "text/plain": [
       "False"
      ]
     },
     "execution_count": 81,
     "metadata": {
      "tags": []
     },
     "output_type": "execute_result"
    }
   ],
   "source": [
    "n is m"
   ]
  },
  {
   "cell_type": "code",
   "execution_count": null,
   "metadata": {
    "colab": {
     "base_uri": "https://localhost:8080/"
    },
    "executionInfo": {
     "elapsed": 533,
     "status": "ok",
     "timestamp": 1613713415227,
     "user": {
      "displayName": "이성렬",
      "photoUrl": "",
      "userId": "08044204928861003367"
     },
     "user_tz": -540
    },
    "id": "0BC7RgSu0IMA",
    "outputId": "632db68c-cab3-4361-bd63-8d796ac83126"
   },
   "outputs": [
    {
     "data": {
      "text/plain": [
       "True"
      ]
     },
     "execution_count": 82,
     "metadata": {
      "tags": []
     },
     "output_type": "execute_result"
    }
   ],
   "source": [
    "n is not m"
   ]
  },
  {
   "cell_type": "markdown",
   "metadata": {
    "id": "z9I-C-t40Kd8"
   },
   "source": [
    "> ## 2) in, not in"
   ]
  },
  {
   "cell_type": "code",
   "execution_count": null,
   "metadata": {
    "colab": {
     "base_uri": "https://localhost:8080/"
    },
    "executionInfo": {
     "elapsed": 543,
     "status": "ok",
     "timestamp": 1613713441039,
     "user": {
      "displayName": "이성렬",
      "photoUrl": "",
      "userId": "08044204928861003367"
     },
     "user_tz": -540
    },
    "id": "5IGeupp_0Jnu",
    "outputId": "29e73c23-3a17-4243-f2ff-13a62d75a81e"
   },
   "outputs": [
    {
     "data": {
      "text/plain": [
       "True"
      ]
     },
     "execution_count": 83,
     "metadata": {
      "tags": []
     },
     "output_type": "execute_result"
    }
   ],
   "source": [
    "'o' in 'koo'"
   ]
  },
  {
   "cell_type": "code",
   "execution_count": null,
   "metadata": {
    "colab": {
     "base_uri": "https://localhost:8080/"
    },
    "executionInfo": {
     "elapsed": 592,
     "status": "ok",
     "timestamp": 1613713454768,
     "user": {
      "displayName": "이성렬",
      "photoUrl": "",
      "userId": "08044204928861003367"
     },
     "user_tz": -540
    },
    "id": "XnY2MOMm0P64",
    "outputId": "4736fc90-823f-415a-bb9d-80f8e41ccd2e"
   },
   "outputs": [
    {
     "data": {
      "text/plain": [
       "True"
      ]
     },
     "execution_count": 84,
     "metadata": {
      "tags": []
     },
     "output_type": "execute_result"
    }
   ],
   "source": [
    "'J' not in 'koo'"
   ]
  },
  {
   "cell_type": "markdown",
   "metadata": {
    "id": "kpdxotbS2jRs"
   },
   "source": [
    "## #\n",
    "## #\n",
    "## #\n",
    "## The End\n",
    "## #\n",
    "## # \n",
    "## #"
   ]
  }
 ],
 "metadata": {
  "colab": {
   "authorship_tag": "ABX9TyNR2NBIXKdeRYD64t68hGj7",
   "name": "Data_Type_Operations.ipynb",
   "provenance": []
  },
  "kernelspec": {
   "display_name": "Python 3",
   "language": "python",
   "name": "python3"
  },
  "language_info": {
   "codemirror_mode": {
    "name": "ipython",
    "version": 3
   },
   "file_extension": ".py",
   "mimetype": "text/x-python",
   "name": "python",
   "nbconvert_exporter": "python",
   "pygments_lexer": "ipython3",
   "version": "3.8.5"
  }
 },
 "nbformat": 4,
 "nbformat_minor": 1
}
